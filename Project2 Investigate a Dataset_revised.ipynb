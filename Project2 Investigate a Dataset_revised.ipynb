{
 "cells": [
  {
   "cell_type": "code",
   "execution_count": 216,
   "metadata": {
    "collapsed": false
   },
   "outputs": [],
   "source": [
    "import matplotlib.pyplot as plt\n",
    "import matplotlib\n",
    "import seaborn as sns\n",
    "import pandas as pd\n",
    "import numpy as np\n",
    "from pandas import Series,DataFrame\n",
    "%matplotlib inline\n"
   ]
  },
  {
   "cell_type": "code",
   "execution_count": 217,
   "metadata": {
    "collapsed": false
   },
   "outputs": [],
   "source": [
    "master=pd.read_csv(\"lahman-csv_2015-01-24/MASTER.csv\")\n",
    "batting=pd.read_csv(\"lahman-csv_2015-01-24/Batting.csv\")\n",
    "pitching=pd.read_csv(\"lahman-csv_2015-01-24/Pitching.csv\")\n",
    "fielding=pd.read_csv(\"lahman-csv_2015-01-24/Fielding.csv\")\n",
    "salary=pd.read_csv(\"lahman-csv_2015-01-24/Salaries.csv\")\n",
    "team=pd.read_csv(\"lahman-csv_2015-01-24/Teams.csv\")\n",
    "awards_players=pd.read_csv(\"lahman-csv_2015-01-24/AwardsPlayers.csv\")\n",
    "awards_share_player=pd.read_csv(\"lahman-csv_2015-01-24/AwardsSharePlayers.csv\")\n"
   ]
  },
  {
   "cell_type": "code",
   "execution_count": 218,
   "metadata": {
    "collapsed": false,
    "scrolled": false
   },
   "outputs": [
    {
     "name": "stdout",
     "output_type": "stream",
     "text": [
      "<class 'pandas.core.frame.DataFrame'>\n",
      "Int64Index: 18589 entries, 0 to 18588\n",
      "Data columns (total 24 columns):\n",
      "playerID        18589 non-null object\n",
      "birthYear       18444 non-null float64\n",
      "birthMonth      18274 non-null float64\n",
      "birthDay        18117 non-null float64\n",
      "birthCountry    18516 non-null object\n",
      "birthState      17975 non-null object\n",
      "birthCity       18389 non-null object\n",
      "deathYear       9225 non-null float64\n",
      "deathMonth      9224 non-null float64\n",
      "deathDay        9223 non-null float64\n",
      "deathCountry    9223 non-null object\n",
      "deathState      9169 non-null object\n",
      "deathCity       9219 non-null object\n",
      "nameFirst       18549 non-null object\n",
      "nameLast        18589 non-null object\n",
      "nameGiven       18549 non-null object\n",
      "weight          17717 non-null float64\n",
      "height          17780 non-null float64\n",
      "bats            17399 non-null object\n",
      "throws          17610 non-null object\n",
      "debut           18399 non-null object\n",
      "finalGame       18399 non-null object\n",
      "retroID         18535 non-null object\n",
      "bbrefID         18588 non-null object\n",
      "dtypes: float64(8), object(16)\n",
      "memory usage: 3.5+ MB\n"
     ]
    }
   ],
   "source": [
    "master.info()"
   ]
  },
  {
   "cell_type": "markdown",
   "metadata": {},
   "source": [
    "At first, I will not utilize the  \"birth\" and \"death\" information. Therefore I'll delete from this data set."
   ]
  },
  {
   "cell_type": "code",
   "execution_count": 219,
   "metadata": {
    "collapsed": false
   },
   "outputs": [
    {
     "name": "stdout",
     "output_type": "stream",
     "text": [
      "<class 'pandas.core.frame.DataFrame'>\n",
      "Int64Index: 18589 entries, 0 to 18588\n",
      "Data columns (total 12 columns):\n",
      "playerID     18589 non-null object\n",
      "nameFirst    18549 non-null object\n",
      "nameLast     18589 non-null object\n",
      "nameGiven    18549 non-null object\n",
      "weight       17717 non-null float64\n",
      "height       17780 non-null float64\n",
      "bats         17399 non-null object\n",
      "throws       17610 non-null object\n",
      "debut        18399 non-null object\n",
      "finalGame    18399 non-null object\n",
      "retroID      18535 non-null object\n",
      "bbrefID      18588 non-null object\n",
      "dtypes: float64(2), object(10)\n",
      "memory usage: 1.8+ MB\n"
     ]
    }
   ],
   "source": [
    "master.drop([\"birthYear\",\"birthMonth\",\"birthDay\",\"birthCountry\",\"birthCity\",\"birthState\",\"deathYear\",\"deathMonth\",\"deathDay\",\"deathCountry\",\"deathState\",\"deathCity\"],axis=1,inplace=True)\n",
    "master.info()"
   ]
  },
  {
   "cell_type": "code",
   "execution_count": 220,
   "metadata": {
    "collapsed": false
   },
   "outputs": [
    {
     "name": "stdout",
     "output_type": "stream",
     "text": [
      "<class 'pandas.core.frame.DataFrame'>\n",
      "Int64Index: 23765 entries, 0 to 23764\n",
      "Data columns (total 34 columns):\n",
      "playerID     23765 non-null object\n",
      "nameFirst    23765 non-null object\n",
      "nameLast     23765 non-null object\n",
      "nameGiven    23765 non-null object\n",
      "weight       23765 non-null float64\n",
      "height       23765 non-null float64\n",
      "bats         23765 non-null object\n",
      "throws       23765 non-null object\n",
      "debut        23765 non-null object\n",
      "finalGame    23765 non-null object\n",
      "retroID      23765 non-null object\n",
      "bbrefID      23765 non-null object\n",
      "yearID       23765 non-null int64\n",
      "stint        23765 non-null int64\n",
      "teamID       23765 non-null object\n",
      "lgID         23765 non-null object\n",
      "G            23765 non-null int64\n",
      "AB           21888 non-null float64\n",
      "R            21888 non-null float64\n",
      "H            21888 non-null float64\n",
      "2B           21888 non-null float64\n",
      "3B           21888 non-null float64\n",
      "HR           21888 non-null float64\n",
      "RBI          21888 non-null float64\n",
      "SB           21888 non-null float64\n",
      "CS           21888 non-null float64\n",
      "BB           21888 non-null float64\n",
      "SO           21888 non-null float64\n",
      "IBB          21888 non-null float64\n",
      "HBP          21888 non-null float64\n",
      "SH           21888 non-null float64\n",
      "SF           21888 non-null float64\n",
      "GIDP         21888 non-null float64\n",
      "salary       23765 non-null int64\n",
      "dtypes: float64(18), int64(4), object(12)\n",
      "memory usage: 6.3+ MB\n"
     ]
    }
   ],
   "source": [
    "player=master.merge(batting,on=\"playerID\")\n",
    "batting=player.merge(salary,on=[\"playerID\",\"yearID\",\"teamID\",\"lgID\"])\n",
    "\n",
    "batting.info()\n"
   ]
  },
  {
   "cell_type": "code",
   "execution_count": 221,
   "metadata": {
    "collapsed": false,
    "scrolled": true
   },
   "outputs": [
    {
     "data": {
      "text/html": [
       "<div>\n",
       "<table border=\"1\" class=\"dataframe\">\n",
       "  <thead>\n",
       "    <tr style=\"text-align: right;\">\n",
       "      <th></th>\n",
       "      <th>playerID</th>\n",
       "      <th>nameGiven</th>\n",
       "      <th>yearID</th>\n",
       "      <th>AB</th>\n",
       "      <th>lgID</th>\n",
       "    </tr>\n",
       "  </thead>\n",
       "  <tbody>\n",
       "    <tr>\n",
       "      <th>0</th>\n",
       "      <td>aardsda01</td>\n",
       "      <td>David Allan</td>\n",
       "      <td>2004</td>\n",
       "      <td>0</td>\n",
       "      <td>NL</td>\n",
       "    </tr>\n",
       "    <tr>\n",
       "      <th>1</th>\n",
       "      <td>aardsda01</td>\n",
       "      <td>David Allan</td>\n",
       "      <td>2007</td>\n",
       "      <td>0</td>\n",
       "      <td>AL</td>\n",
       "    </tr>\n",
       "    <tr>\n",
       "      <th>2</th>\n",
       "      <td>aardsda01</td>\n",
       "      <td>David Allan</td>\n",
       "      <td>2008</td>\n",
       "      <td>1</td>\n",
       "      <td>AL</td>\n",
       "    </tr>\n",
       "    <tr>\n",
       "      <th>3</th>\n",
       "      <td>aardsda01</td>\n",
       "      <td>David Allan</td>\n",
       "      <td>2009</td>\n",
       "      <td>0</td>\n",
       "      <td>AL</td>\n",
       "    </tr>\n",
       "    <tr>\n",
       "      <th>4</th>\n",
       "      <td>aardsda01</td>\n",
       "      <td>David Allan</td>\n",
       "      <td>2010</td>\n",
       "      <td>0</td>\n",
       "      <td>AL</td>\n",
       "    </tr>\n",
       "    <tr>\n",
       "      <th>5</th>\n",
       "      <td>aardsda01</td>\n",
       "      <td>David Allan</td>\n",
       "      <td>2012</td>\n",
       "      <td>0</td>\n",
       "      <td>AL</td>\n",
       "    </tr>\n",
       "    <tr>\n",
       "      <th>6</th>\n",
       "      <td>aasedo01</td>\n",
       "      <td>Donald William</td>\n",
       "      <td>1986</td>\n",
       "      <td>NaN</td>\n",
       "      <td>AL</td>\n",
       "    </tr>\n",
       "    <tr>\n",
       "      <th>7</th>\n",
       "      <td>aasedo01</td>\n",
       "      <td>Donald William</td>\n",
       "      <td>1987</td>\n",
       "      <td>NaN</td>\n",
       "      <td>AL</td>\n",
       "    </tr>\n",
       "    <tr>\n",
       "      <th>8</th>\n",
       "      <td>aasedo01</td>\n",
       "      <td>Donald William</td>\n",
       "      <td>1988</td>\n",
       "      <td>NaN</td>\n",
       "      <td>AL</td>\n",
       "    </tr>\n",
       "    <tr>\n",
       "      <th>9</th>\n",
       "      <td>aasedo01</td>\n",
       "      <td>Donald William</td>\n",
       "      <td>1989</td>\n",
       "      <td>5</td>\n",
       "      <td>NL</td>\n",
       "    </tr>\n",
       "    <tr>\n",
       "      <th>10</th>\n",
       "      <td>abadan01</td>\n",
       "      <td>Fausto Andres</td>\n",
       "      <td>2006</td>\n",
       "      <td>3</td>\n",
       "      <td>NL</td>\n",
       "    </tr>\n",
       "    <tr>\n",
       "      <th>11</th>\n",
       "      <td>abadfe01</td>\n",
       "      <td>Fernando Antonio</td>\n",
       "      <td>2011</td>\n",
       "      <td>0</td>\n",
       "      <td>NL</td>\n",
       "    </tr>\n",
       "    <tr>\n",
       "      <th>12</th>\n",
       "      <td>abadfe01</td>\n",
       "      <td>Fernando Antonio</td>\n",
       "      <td>2012</td>\n",
       "      <td>7</td>\n",
       "      <td>NL</td>\n",
       "    </tr>\n",
       "    <tr>\n",
       "      <th>13</th>\n",
       "      <td>abadfe01</td>\n",
       "      <td>Fernando Antonio</td>\n",
       "      <td>2014</td>\n",
       "      <td>0</td>\n",
       "      <td>AL</td>\n",
       "    </tr>\n",
       "    <tr>\n",
       "      <th>14</th>\n",
       "      <td>abbotje01</td>\n",
       "      <td>Jeffrey William</td>\n",
       "      <td>1998</td>\n",
       "      <td>244</td>\n",
       "      <td>AL</td>\n",
       "    </tr>\n",
       "    <tr>\n",
       "      <th>15</th>\n",
       "      <td>abbotje01</td>\n",
       "      <td>Jeffrey William</td>\n",
       "      <td>1999</td>\n",
       "      <td>57</td>\n",
       "      <td>AL</td>\n",
       "    </tr>\n",
       "    <tr>\n",
       "      <th>16</th>\n",
       "      <td>abbotje01</td>\n",
       "      <td>Jeffrey William</td>\n",
       "      <td>2000</td>\n",
       "      <td>215</td>\n",
       "      <td>AL</td>\n",
       "    </tr>\n",
       "    <tr>\n",
       "      <th>17</th>\n",
       "      <td>abbotje01</td>\n",
       "      <td>Jeffrey William</td>\n",
       "      <td>2001</td>\n",
       "      <td>42</td>\n",
       "      <td>NL</td>\n",
       "    </tr>\n",
       "    <tr>\n",
       "      <th>18</th>\n",
       "      <td>abbotji01</td>\n",
       "      <td>James Anthony</td>\n",
       "      <td>1989</td>\n",
       "      <td>NaN</td>\n",
       "      <td>AL</td>\n",
       "    </tr>\n",
       "    <tr>\n",
       "      <th>19</th>\n",
       "      <td>abbotji01</td>\n",
       "      <td>James Anthony</td>\n",
       "      <td>1990</td>\n",
       "      <td>NaN</td>\n",
       "      <td>AL</td>\n",
       "    </tr>\n",
       "    <tr>\n",
       "      <th>20</th>\n",
       "      <td>abbotji01</td>\n",
       "      <td>James Anthony</td>\n",
       "      <td>1991</td>\n",
       "      <td>NaN</td>\n",
       "      <td>AL</td>\n",
       "    </tr>\n",
       "    <tr>\n",
       "      <th>21</th>\n",
       "      <td>abbotji01</td>\n",
       "      <td>James Anthony</td>\n",
       "      <td>1992</td>\n",
       "      <td>NaN</td>\n",
       "      <td>AL</td>\n",
       "    </tr>\n",
       "    <tr>\n",
       "      <th>22</th>\n",
       "      <td>abbotji01</td>\n",
       "      <td>James Anthony</td>\n",
       "      <td>1993</td>\n",
       "      <td>NaN</td>\n",
       "      <td>AL</td>\n",
       "    </tr>\n",
       "    <tr>\n",
       "      <th>23</th>\n",
       "      <td>abbotji01</td>\n",
       "      <td>James Anthony</td>\n",
       "      <td>1994</td>\n",
       "      <td>NaN</td>\n",
       "      <td>AL</td>\n",
       "    </tr>\n",
       "    <tr>\n",
       "      <th>24</th>\n",
       "      <td>abbotji01</td>\n",
       "      <td>James Anthony</td>\n",
       "      <td>1995</td>\n",
       "      <td>NaN</td>\n",
       "      <td>AL</td>\n",
       "    </tr>\n",
       "    <tr>\n",
       "      <th>25</th>\n",
       "      <td>abbotji01</td>\n",
       "      <td>James Anthony</td>\n",
       "      <td>1996</td>\n",
       "      <td>NaN</td>\n",
       "      <td>AL</td>\n",
       "    </tr>\n",
       "    <tr>\n",
       "      <th>26</th>\n",
       "      <td>abbotji01</td>\n",
       "      <td>James Anthony</td>\n",
       "      <td>1999</td>\n",
       "      <td>21</td>\n",
       "      <td>NL</td>\n",
       "    </tr>\n",
       "    <tr>\n",
       "      <th>27</th>\n",
       "      <td>abbotku01</td>\n",
       "      <td>Kurt Thomas</td>\n",
       "      <td>1993</td>\n",
       "      <td>61</td>\n",
       "      <td>AL</td>\n",
       "    </tr>\n",
       "    <tr>\n",
       "      <th>28</th>\n",
       "      <td>abbotku01</td>\n",
       "      <td>Kurt Thomas</td>\n",
       "      <td>1994</td>\n",
       "      <td>345</td>\n",
       "      <td>NL</td>\n",
       "    </tr>\n",
       "    <tr>\n",
       "      <th>29</th>\n",
       "      <td>abbotku01</td>\n",
       "      <td>Kurt Thomas</td>\n",
       "      <td>1995</td>\n",
       "      <td>420</td>\n",
       "      <td>NL</td>\n",
       "    </tr>\n",
       "  </tbody>\n",
       "</table>\n",
       "</div>"
      ],
      "text/plain": [
       "     playerID         nameGiven  yearID   AB lgID\n",
       "0   aardsda01       David Allan    2004    0   NL\n",
       "1   aardsda01       David Allan    2007    0   AL\n",
       "2   aardsda01       David Allan    2008    1   AL\n",
       "3   aardsda01       David Allan    2009    0   AL\n",
       "4   aardsda01       David Allan    2010    0   AL\n",
       "5   aardsda01       David Allan    2012    0   AL\n",
       "6    aasedo01    Donald William    1986  NaN   AL\n",
       "7    aasedo01    Donald William    1987  NaN   AL\n",
       "8    aasedo01    Donald William    1988  NaN   AL\n",
       "9    aasedo01    Donald William    1989    5   NL\n",
       "10   abadan01     Fausto Andres    2006    3   NL\n",
       "11   abadfe01  Fernando Antonio    2011    0   NL\n",
       "12   abadfe01  Fernando Antonio    2012    7   NL\n",
       "13   abadfe01  Fernando Antonio    2014    0   AL\n",
       "14  abbotje01   Jeffrey William    1998  244   AL\n",
       "15  abbotje01   Jeffrey William    1999   57   AL\n",
       "16  abbotje01   Jeffrey William    2000  215   AL\n",
       "17  abbotje01   Jeffrey William    2001   42   NL\n",
       "18  abbotji01     James Anthony    1989  NaN   AL\n",
       "19  abbotji01     James Anthony    1990  NaN   AL\n",
       "20  abbotji01     James Anthony    1991  NaN   AL\n",
       "21  abbotji01     James Anthony    1992  NaN   AL\n",
       "22  abbotji01     James Anthony    1993  NaN   AL\n",
       "23  abbotji01     James Anthony    1994  NaN   AL\n",
       "24  abbotji01     James Anthony    1995  NaN   AL\n",
       "25  abbotji01     James Anthony    1996  NaN   AL\n",
       "26  abbotji01     James Anthony    1999   21   NL\n",
       "27  abbotku01       Kurt Thomas    1993   61   AL\n",
       "28  abbotku01       Kurt Thomas    1994  345   NL\n",
       "29  abbotku01       Kurt Thomas    1995  420   NL"
      ]
     },
     "execution_count": 221,
     "metadata": {},
     "output_type": "execute_result"
    }
   ],
   "source": [
    "batting[[\"playerID\",\"nameGiven\",\"yearID\",\"AB\",\"lgID\"]].head(30)"
   ]
  },
  {
   "cell_type": "markdown",
   "metadata": {},
   "source": [
    "There are people who have no \"AB\" in this dataset.\n",
    "They are pitcher in AL so they basically have no chance to be batters.So I don't count them as batters.\n"
   ]
  },
  {
   "cell_type": "code",
   "execution_count": 222,
   "metadata": {
    "collapsed": false
   },
   "outputs": [],
   "source": [
    "batting.dropna(inplace=True)"
   ]
  },
  {
   "cell_type": "code",
   "execution_count": 223,
   "metadata": {
    "collapsed": false
   },
   "outputs": [
    {
     "name": "stdout",
     "output_type": "stream",
     "text": [
      "<class 'pandas.core.frame.DataFrame'>\n",
      "Int64Index: 21888 entries, 0 to 23764\n",
      "Data columns (total 34 columns):\n",
      "playerID     21888 non-null object\n",
      "nameFirst    21888 non-null object\n",
      "nameLast     21888 non-null object\n",
      "nameGiven    21888 non-null object\n",
      "weight       21888 non-null float64\n",
      "height       21888 non-null float64\n",
      "bats         21888 non-null object\n",
      "throws       21888 non-null object\n",
      "debut        21888 non-null object\n",
      "finalGame    21888 non-null object\n",
      "retroID      21888 non-null object\n",
      "bbrefID      21888 non-null object\n",
      "yearID       21888 non-null int64\n",
      "stint        21888 non-null int64\n",
      "teamID       21888 non-null object\n",
      "lgID         21888 non-null object\n",
      "G            21888 non-null int64\n",
      "AB           21888 non-null float64\n",
      "R            21888 non-null float64\n",
      "H            21888 non-null float64\n",
      "2B           21888 non-null float64\n",
      "3B           21888 non-null float64\n",
      "HR           21888 non-null float64\n",
      "RBI          21888 non-null float64\n",
      "SB           21888 non-null float64\n",
      "CS           21888 non-null float64\n",
      "BB           21888 non-null float64\n",
      "SO           21888 non-null float64\n",
      "IBB          21888 non-null float64\n",
      "HBP          21888 non-null float64\n",
      "SH           21888 non-null float64\n",
      "SF           21888 non-null float64\n",
      "GIDP         21888 non-null float64\n",
      "salary       21888 non-null int64\n",
      "dtypes: float64(18), int64(4), object(12)\n",
      "memory usage: 5.8+ MB\n"
     ]
    }
   ],
   "source": [
    "batting.info()"
   ]
  },
  {
   "cell_type": "markdown",
   "metadata": {},
   "source": [
    "There is no batter who has \"NaN\" on \"AB\" anymore in this dataset."
   ]
  },
  {
   "cell_type": "code",
   "execution_count": 224,
   "metadata": {
    "collapsed": false
   },
   "outputs": [
    {
     "data": {
      "text/html": [
       "<div>\n",
       "<table border=\"1\" class=\"dataframe\">\n",
       "  <thead>\n",
       "    <tr style=\"text-align: right;\">\n",
       "      <th></th>\n",
       "      <th>playerID</th>\n",
       "      <th>nameFirst</th>\n",
       "      <th>nameLast</th>\n",
       "      <th>nameGiven</th>\n",
       "      <th>weight</th>\n",
       "      <th>height</th>\n",
       "      <th>bats</th>\n",
       "      <th>throws</th>\n",
       "      <th>debut</th>\n",
       "      <th>finalGame</th>\n",
       "      <th>...</th>\n",
       "      <th>WP</th>\n",
       "      <th>HBP</th>\n",
       "      <th>BK</th>\n",
       "      <th>BFP</th>\n",
       "      <th>GF</th>\n",
       "      <th>R</th>\n",
       "      <th>SH</th>\n",
       "      <th>SF</th>\n",
       "      <th>GIDP</th>\n",
       "      <th>salary</th>\n",
       "    </tr>\n",
       "  </thead>\n",
       "  <tbody>\n",
       "    <tr>\n",
       "      <th>0</th>\n",
       "      <td>aardsda01</td>\n",
       "      <td>David</td>\n",
       "      <td>Aardsma</td>\n",
       "      <td>David Allan</td>\n",
       "      <td>205</td>\n",
       "      <td>75</td>\n",
       "      <td>R</td>\n",
       "      <td>R</td>\n",
       "      <td>4/6/2004</td>\n",
       "      <td>9/28/2013</td>\n",
       "      <td>...</td>\n",
       "      <td>0</td>\n",
       "      <td>2</td>\n",
       "      <td>0</td>\n",
       "      <td>61</td>\n",
       "      <td>5</td>\n",
       "      <td>8</td>\n",
       "      <td>0</td>\n",
       "      <td>1</td>\n",
       "      <td>NaN</td>\n",
       "      <td>300000</td>\n",
       "    </tr>\n",
       "    <tr>\n",
       "      <th>1</th>\n",
       "      <td>aardsda01</td>\n",
       "      <td>David</td>\n",
       "      <td>Aardsma</td>\n",
       "      <td>David Allan</td>\n",
       "      <td>205</td>\n",
       "      <td>75</td>\n",
       "      <td>R</td>\n",
       "      <td>R</td>\n",
       "      <td>4/6/2004</td>\n",
       "      <td>9/28/2013</td>\n",
       "      <td>...</td>\n",
       "      <td>2</td>\n",
       "      <td>1</td>\n",
       "      <td>0</td>\n",
       "      <td>151</td>\n",
       "      <td>7</td>\n",
       "      <td>24</td>\n",
       "      <td>2</td>\n",
       "      <td>1</td>\n",
       "      <td>NaN</td>\n",
       "      <td>387500</td>\n",
       "    </tr>\n",
       "    <tr>\n",
       "      <th>2</th>\n",
       "      <td>aardsda01</td>\n",
       "      <td>David</td>\n",
       "      <td>Aardsma</td>\n",
       "      <td>David Allan</td>\n",
       "      <td>205</td>\n",
       "      <td>75</td>\n",
       "      <td>R</td>\n",
       "      <td>R</td>\n",
       "      <td>4/6/2004</td>\n",
       "      <td>9/28/2013</td>\n",
       "      <td>...</td>\n",
       "      <td>3</td>\n",
       "      <td>5</td>\n",
       "      <td>0</td>\n",
       "      <td>228</td>\n",
       "      <td>7</td>\n",
       "      <td>32</td>\n",
       "      <td>3</td>\n",
       "      <td>2</td>\n",
       "      <td>NaN</td>\n",
       "      <td>403250</td>\n",
       "    </tr>\n",
       "    <tr>\n",
       "      <th>3</th>\n",
       "      <td>aardsda01</td>\n",
       "      <td>David</td>\n",
       "      <td>Aardsma</td>\n",
       "      <td>David Allan</td>\n",
       "      <td>205</td>\n",
       "      <td>75</td>\n",
       "      <td>R</td>\n",
       "      <td>R</td>\n",
       "      <td>4/6/2004</td>\n",
       "      <td>9/28/2013</td>\n",
       "      <td>...</td>\n",
       "      <td>2</td>\n",
       "      <td>0</td>\n",
       "      <td>0</td>\n",
       "      <td>296</td>\n",
       "      <td>53</td>\n",
       "      <td>23</td>\n",
       "      <td>2</td>\n",
       "      <td>1</td>\n",
       "      <td>NaN</td>\n",
       "      <td>419000</td>\n",
       "    </tr>\n",
       "    <tr>\n",
       "      <th>4</th>\n",
       "      <td>aardsda01</td>\n",
       "      <td>David</td>\n",
       "      <td>Aardsma</td>\n",
       "      <td>David Allan</td>\n",
       "      <td>205</td>\n",
       "      <td>75</td>\n",
       "      <td>R</td>\n",
       "      <td>R</td>\n",
       "      <td>4/6/2004</td>\n",
       "      <td>9/28/2013</td>\n",
       "      <td>...</td>\n",
       "      <td>2</td>\n",
       "      <td>2</td>\n",
       "      <td>0</td>\n",
       "      <td>202</td>\n",
       "      <td>43</td>\n",
       "      <td>19</td>\n",
       "      <td>7</td>\n",
       "      <td>1</td>\n",
       "      <td>NaN</td>\n",
       "      <td>2750000</td>\n",
       "    </tr>\n",
       "  </tbody>\n",
       "</table>\n",
       "<p>5 rows × 42 columns</p>\n",
       "</div>"
      ],
      "text/plain": [
       "    playerID nameFirst nameLast    nameGiven  weight  height bats throws  \\\n",
       "0  aardsda01     David  Aardsma  David Allan     205      75    R      R   \n",
       "1  aardsda01     David  Aardsma  David Allan     205      75    R      R   \n",
       "2  aardsda01     David  Aardsma  David Allan     205      75    R      R   \n",
       "3  aardsda01     David  Aardsma  David Allan     205      75    R      R   \n",
       "4  aardsda01     David  Aardsma  David Allan     205      75    R      R   \n",
       "\n",
       "      debut  finalGame   ...    WP HBP  BK  BFP  GF   R  SH  SF  GIDP   salary  \n",
       "0  4/6/2004  9/28/2013   ...     0   2   0   61   5   8   0   1   NaN   300000  \n",
       "1  4/6/2004  9/28/2013   ...     2   1   0  151   7  24   2   1   NaN   387500  \n",
       "2  4/6/2004  9/28/2013   ...     3   5   0  228   7  32   3   2   NaN   403250  \n",
       "3  4/6/2004  9/28/2013   ...     2   0   0  296  53  23   2   1   NaN   419000  \n",
       "4  4/6/2004  9/28/2013   ...     2   2   0  202  43  19   7   1   NaN  2750000  \n",
       "\n",
       "[5 rows x 42 columns]"
      ]
     },
     "execution_count": 224,
     "metadata": {},
     "output_type": "execute_result"
    }
   ],
   "source": [
    "player2=master.merge(pitching,on=\"playerID\")\n",
    "pitching=player2.merge(salary,on=[\"playerID\",\"yearID\",\"teamID\",\"lgID\"])\n",
    "pitching.head()"
   ]
  },
  {
   "cell_type": "code",
   "execution_count": null,
   "metadata": {
    "collapsed": true
   },
   "outputs": [],
   "source": []
  },
  {
   "cell_type": "markdown",
   "metadata": {},
   "source": [
    "# Overview of MLB data"
   ]
  },
  {
   "cell_type": "markdown",
   "metadata": {},
   "source": [
    "At first,I'll look into the overview of MLB.\n",
    "What's the average salary of Batters and Pitchers by year?"
   ]
  },
  {
   "cell_type": "code",
   "execution_count": 225,
   "metadata": {
    "collapsed": false
   },
   "outputs": [],
   "source": [
    "batter_ave=batting.groupby(\"yearID\",as_index=False).mean()\n",
    "pitcher_ave=pitching.groupby(\"yearID\",as_index=False).mean()"
   ]
  },
  {
   "cell_type": "code",
   "execution_count": 226,
   "metadata": {
    "collapsed": false
   },
   "outputs": [
    {
     "data": {
      "text/plain": [
       "<matplotlib.text.Text at 0x120a78b10>"
      ]
     },
     "execution_count": 226,
     "metadata": {},
     "output_type": "execute_result"
    },
    {
     "data": {
      "image/png": "[encoded data removed]",
      "text/plain": [
       "<matplotlib.figure.Figure at 0x11e7deed0>"
      ]
     },
     "metadata": {},
     "output_type": "display_data"
    }
   ],
   "source": [
    "plt.scatter(batter_ave[\"yearID\"],batter_ave[\"salary\"])\n",
    "plt.scatter(pitcher_ave[\"yearID\"],pitcher_ave[\"salary\"],color=\"r\")\n",
    "plt.xlabel(\"Year\")\n",
    "plt.ylabel(\"Salary\")"
   ]
  },
  {
   "cell_type": "markdown",
   "metadata": {},
   "source": [
    "The graph above clearly shows that the average salary is on the rise year by year.\n",
    "The salary in 2015 is around 8 times higher than that in 1985.\n",
    "And the batter's salary is slightly higher than that of pitcher's."
   ]
  },
  {
   "cell_type": "code",
   "execution_count": 227,
   "metadata": {
    "collapsed": false
   },
   "outputs": [
    {
     "data": {
      "text/plain": [
       "<matplotlib.text.Text at 0x123d4f990>"
      ]
     },
     "execution_count": 227,
     "metadata": {},
     "output_type": "execute_result"
    },
    {
     "data": {
      "image/png": "[encoded data removed]",
      "text/plain": [
       "<matplotlib.figure.Figure at 0x10d9e0710>"
      ]
     },
     "metadata": {},
     "output_type": "display_data"
    }
   ],
   "source": [
    "plt.scatter(batter_ave[\"yearID\"],batter_ave[\"weight\"])\n",
    "plt.scatter(pitcher_ave[\"yearID\"],pitcher_ave[\"weight\"],color=\"r\")\n",
    "plt.xlabel(\"Year\")\n",
    "plt.ylabel(\"Weight\")"
   ]
  },
  {
   "cell_type": "markdown",
   "metadata": {},
   "source": [
    "Interestingly,the weight is also increasing. Picher is  a bit heavier than batter on average."
   ]
  },
  {
   "cell_type": "code",
   "execution_count": 228,
   "metadata": {
    "collapsed": false
   },
   "outputs": [
    {
     "name": "stdout",
     "output_type": "stream",
     "text": [
      "The correlation of Year and HR is -0.356219834886\n"
     ]
    },
    {
     "data": {
      "image/png": "[encoded data removed]",
      "text/plain": [
       "<matplotlib.figure.Figure at 0x120a0e750>"
      ]
     },
     "metadata": {},
     "output_type": "display_data"
    }
   ],
   "source": [
    "plt.scatter(batter_ave[\"yearID\"],batter_ave[\"HR\"])\n",
    "plt.xlabel(\"Year\")\n",
    "plt.ylabel(\"Average number of HR per player\")\n",
    "corr=np.corrcoef(batter_ave[\"yearID\"],batter_ave[\"HR\"])\n",
    "print \"The correlation of Year and HR is %s\" %(corr[0,1])"
   ]
  },
  {
   "cell_type": "markdown",
   "metadata": {},
   "source": [
    "The average number of Homeruns are decreasing regardress of the increase in weight.(The correlation is -0.36)\n",
    "This may conclude that heavier weight on average has nothing to do with the number of homeruns.\n"
   ]
  },
  {
   "cell_type": "code",
   "execution_count": 229,
   "metadata": {
    "collapsed": false
   },
   "outputs": [
    {
     "name": "stdout",
     "output_type": "stream",
     "text": [
      "The correlation of Year and CG is -0.84597486346\n"
     ]
    },
    {
     "data": {
      "image/png": "[encoded data removed]",
      "text/plain": [
       "<matplotlib.figure.Figure at 0x11072d7d0>"
      ]
     },
     "metadata": {},
     "output_type": "display_data"
    }
   ],
   "source": [
    "plt.scatter(pitcher_ave[\"yearID\"],pitcher_ave[\"CG\"],color=\"r\")\n",
    "plt.xlabel(\"Year\")\n",
    "plt.ylabel(\"Average number of CG per player\")\n",
    "corr=np.corrcoef(pitcher_ave[\"yearID\"],pitcher_ave[\"CG\"])\n",
    "print \"The correlation of Year and CG is %s\" %(corr[0,1])"
   ]
  },
  {
   "cell_type": "markdown",
   "metadata": {},
   "source": [
    "The average number of Complete Games are decreasing year by year(The correlation is -0.85). This means that one pitcher(Starter) doesn't tend to complete games by himself. Setup pitcher, middle relief pitcher and closer became more important than before."
   ]
  },
  {
   "cell_type": "markdown",
   "metadata": {},
   "source": [
    "## Conclusion\n",
    "The average saslary is dramatically incerasing year by year.\n",
    "The average weight is also on the rise,however the average number of homeruns are decreasing.The cause of this may be that more pitchers pitch in a game.Therefore, pitchers will be changed before using up their stamina ."
   ]
  },
  {
   "cell_type": "markdown",
   "metadata": {},
   "source": [
    "# What team is the most efficient?"
   ]
  },
  {
   "cell_type": "markdown",
   "metadata": {},
   "source": [
    "I showed that the average salary is increasing. So I'll investigate what team is the most efficient. Since the data is so huge that I confine the data within these 14 years (from 2000 to 2014) "
   ]
  },
  {
   "cell_type": "code",
   "execution_count": 230,
   "metadata": {
    "collapsed": true
   },
   "outputs": [],
   "source": [
    "salary_team=salary.merge(team,on=[\"yearID\",\"teamID\",\"lgID\"])"
   ]
  },
  {
   "cell_type": "code",
   "execution_count": 231,
   "metadata": {
    "collapsed": false
   },
   "outputs": [
    {
     "name": "stderr",
     "output_type": "stream",
     "text": [
      "/Users/Ryosuke/anaconda/lib/python2.7/site-packages/ipykernel/__main__.py:1: FutureWarning: sort(columns=....) is deprecated, use sort_values(by=.....)\n",
      "  if __name__ == '__main__':\n"
     ]
    },
    {
     "data": {
      "text/html": [
       "<div>\n",
       "<table border=\"1\" class=\"dataframe\">\n",
       "  <thead>\n",
       "    <tr style=\"text-align: right;\">\n",
       "      <th></th>\n",
       "      <th>teamID</th>\n",
       "      <th>yearID</th>\n",
       "      <th>salary</th>\n",
       "      <th>Rank</th>\n",
       "      <th>G</th>\n",
       "      <th>Ghome</th>\n",
       "      <th>W</th>\n",
       "      <th>L</th>\n",
       "      <th>R</th>\n",
       "      <th>AB</th>\n",
       "      <th>...</th>\n",
       "      <th>HA</th>\n",
       "      <th>HRA</th>\n",
       "      <th>BBA</th>\n",
       "      <th>SOA</th>\n",
       "      <th>E</th>\n",
       "      <th>DP</th>\n",
       "      <th>FP</th>\n",
       "      <th>attendance</th>\n",
       "      <th>BPF</th>\n",
       "      <th>PPF</th>\n",
       "    </tr>\n",
       "  </thead>\n",
       "  <tbody>\n",
       "    <tr>\n",
       "      <th>20</th>\n",
       "      <td>NYA</td>\n",
       "      <td>2006.919240</td>\n",
       "      <td>6422152.418052</td>\n",
       "      <td>1.546318</td>\n",
       "      <td>161.857482</td>\n",
       "      <td>80.857482</td>\n",
       "      <td>94.738717</td>\n",
       "      <td>66.978622</td>\n",
       "      <td>842.779097</td>\n",
       "      <td>5575.285036</td>\n",
       "      <td>...</td>\n",
       "      <td>1448.624703</td>\n",
       "      <td>164.413302</td>\n",
       "      <td>477.833729</td>\n",
       "      <td>1155.087886</td>\n",
       "      <td>94.902613</td>\n",
       "      <td>138.719715</td>\n",
       "      <td>0.983983</td>\n",
       "      <td>3682869.657957</td>\n",
       "      <td>101.543943</td>\n",
       "      <td>100.327791</td>\n",
       "    </tr>\n",
       "    <tr>\n",
       "      <th>28</th>\n",
       "      <td>SLN</td>\n",
       "      <td>2006.985612</td>\n",
       "      <td>3269386.690647</td>\n",
       "      <td>1.784173</td>\n",
       "      <td>161.935252</td>\n",
       "      <td>81.007194</td>\n",
       "      <td>90.748201</td>\n",
       "      <td>71.187050</td>\n",
       "      <td>780.817746</td>\n",
       "      <td>5537.383693</td>\n",
       "      <td>...</td>\n",
       "      <td>1426.515588</td>\n",
       "      <td>157.467626</td>\n",
       "      <td>488.573141</td>\n",
       "      <td>1064.285372</td>\n",
       "      <td>98.517986</td>\n",
       "      <td>160.685851</td>\n",
       "      <td>0.983978</td>\n",
       "      <td>3283160.527578</td>\n",
       "      <td>98.865707</td>\n",
       "      <td>98.069544</td>\n",
       "    </tr>\n",
       "    <tr>\n",
       "      <th>14</th>\n",
       "      <td>LAA</td>\n",
       "      <td>2009.484099</td>\n",
       "      <td>4186119.031802</td>\n",
       "      <td>1.791519</td>\n",
       "      <td>162.000000</td>\n",
       "      <td>81.000000</td>\n",
       "      <td>90.660777</td>\n",
       "      <td>71.339223</td>\n",
       "      <td>761.081272</td>\n",
       "      <td>5570.699647</td>\n",
       "      <td>...</td>\n",
       "      <td>1420.833922</td>\n",
       "      <td>157.505300</td>\n",
       "      <td>492.731449</td>\n",
       "      <td>1147.699647</td>\n",
       "      <td>98.328622</td>\n",
       "      <td>145.734982</td>\n",
       "      <td>0.983675</td>\n",
       "      <td>3235651.572438</td>\n",
       "      <td>97.385159</td>\n",
       "      <td>96.879859</td>\n",
       "    </tr>\n",
       "    <tr>\n",
       "      <th>2</th>\n",
       "      <td>ATL</td>\n",
       "      <td>2006.858852</td>\n",
       "      <td>3273933.543062</td>\n",
       "      <td>1.880383</td>\n",
       "      <td>161.933014</td>\n",
       "      <td>81.000000</td>\n",
       "      <td>89.361244</td>\n",
       "      <td>72.504785</td>\n",
       "      <td>749.633971</td>\n",
       "      <td>5530.648325</td>\n",
       "      <td>...</td>\n",
       "      <td>1397.222488</td>\n",
       "      <td>144.705742</td>\n",
       "      <td>516.057416</td>\n",
       "      <td>1133.966507</td>\n",
       "      <td>103.277512</td>\n",
       "      <td>151.186603</td>\n",
       "      <td>0.983400</td>\n",
       "      <td>2562463.973684</td>\n",
       "      <td>100.358852</td>\n",
       "      <td>99.545455</td>\n",
       "    </tr>\n",
       "    <tr>\n",
       "      <th>22</th>\n",
       "      <td>OAK</td>\n",
       "      <td>2007.137019</td>\n",
       "      <td>2000217.447115</td>\n",
       "      <td>1.932692</td>\n",
       "      <td>161.867788</td>\n",
       "      <td>81.000000</td>\n",
       "      <td>88.100962</td>\n",
       "      <td>73.766827</td>\n",
       "      <td>757.889423</td>\n",
       "      <td>5541.923077</td>\n",
       "      <td>...</td>\n",
       "      <td>1394.014423</td>\n",
       "      <td>149.454327</td>\n",
       "      <td>503.622596</td>\n",
       "      <td>1084.262019</td>\n",
       "      <td>104.391827</td>\n",
       "      <td>151.459135</td>\n",
       "      <td>0.982990</td>\n",
       "      <td>1843218.225962</td>\n",
       "      <td>97.639423</td>\n",
       "      <td>96.980769</td>\n",
       "    </tr>\n",
       "  </tbody>\n",
       "</table>\n",
       "<p>5 rows × 37 columns</p>\n",
       "</div>"
      ],
      "text/plain": [
       "   teamID       yearID          salary      Rank           G      Ghome  \\\n",
       "20    NYA  2006.919240  6422152.418052  1.546318  161.857482  80.857482   \n",
       "28    SLN  2006.985612  3269386.690647  1.784173  161.935252  81.007194   \n",
       "14    LAA  2009.484099  4186119.031802  1.791519  162.000000  81.000000   \n",
       "2     ATL  2006.858852  3273933.543062  1.880383  161.933014  81.000000   \n",
       "22    OAK  2007.137019  2000217.447115  1.932692  161.867788  81.000000   \n",
       "\n",
       "            W          L           R           AB     ...               HA  \\\n",
       "20  94.738717  66.978622  842.779097  5575.285036     ...      1448.624703   \n",
       "28  90.748201  71.187050  780.817746  5537.383693     ...      1426.515588   \n",
       "14  90.660777  71.339223  761.081272  5570.699647     ...      1420.833922   \n",
       "2   89.361244  72.504785  749.633971  5530.648325     ...      1397.222488   \n",
       "22  88.100962  73.766827  757.889423  5541.923077     ...      1394.014423   \n",
       "\n",
       "           HRA         BBA          SOA           E          DP        FP  \\\n",
       "20  164.413302  477.833729  1155.087886   94.902613  138.719715  0.983983   \n",
       "28  157.467626  488.573141  1064.285372   98.517986  160.685851  0.983978   \n",
       "14  157.505300  492.731449  1147.699647   98.328622  145.734982  0.983675   \n",
       "2   144.705742  516.057416  1133.966507  103.277512  151.186603  0.983400   \n",
       "22  149.454327  503.622596  1084.262019  104.391827  151.459135  0.982990   \n",
       "\n",
       "        attendance         BPF         PPF  \n",
       "20  3682869.657957  101.543943  100.327791  \n",
       "28  3283160.527578   98.865707   98.069544  \n",
       "14  3235651.572438   97.385159   96.879859  \n",
       "2   2562463.973684  100.358852   99.545455  \n",
       "22  1843218.225962   97.639423   96.980769  \n",
       "\n",
       "[5 rows x 37 columns]"
      ]
     },
     "execution_count": 231,
     "metadata": {},
     "output_type": "execute_result"
    }
   ],
   "source": [
    "team_above_2000=salary_team[salary_team[\"yearID\"]>=2000].groupby(\"teamID\",as_index=False).mean().sort(\"Rank\",ascending=True)\n",
    "team_above_2000.head()"
   ]
  },
  {
   "cell_type": "markdown",
   "metadata": {},
   "source": [
    "Apparently,NYA has been the best Rank,but the average salary  is quite high.\n",
    "To see how good the NYA's results, I plot the graph below."
   ]
  },
  {
   "cell_type": "code",
   "execution_count": 232,
   "metadata": {
    "collapsed": false
   },
   "outputs": [
    {
     "data": {
      "text/plain": [
       "<matplotlib.text.Text at 0x110fa6c90>"
      ]
     },
     "execution_count": 232,
     "metadata": {},
     "output_type": "execute_result"
    },
    {
     "data": {
      "image/png": "[encoded data removed]",
      "text/plain": [
       "<matplotlib.figure.Figure at 0x10c02ac90>"
      ]
     },
     "metadata": {},
     "output_type": "display_data"
    }
   ],
   "source": [
    "nya_rank=team[(team[\"teamID\"]==\"NYA\") & (team[\"yearID\"]>=2000)]\n",
    "x=nya_rank[\"yearID\"]\n",
    "y=nya_rank[\"Rank\"]\n",
    "plt.plot(x,y)\n",
    "plt.xlabel(\"Year\")\n",
    "plt.ylabel(\"Rank\")"
   ]
  },
  {
   "cell_type": "code",
   "execution_count": 233,
   "metadata": {
    "collapsed": false
   },
   "outputs": [
    {
     "data": {
      "text/html": [
       "<div>\n",
       "<table border=\"1\" class=\"dataframe\">\n",
       "  <thead>\n",
       "    <tr style=\"text-align: right;\">\n",
       "      <th></th>\n",
       "      <th>yearID</th>\n",
       "      <th>lgID</th>\n",
       "      <th>teamID</th>\n",
       "      <th>franchID</th>\n",
       "      <th>divID</th>\n",
       "      <th>Rank</th>\n",
       "      <th>G</th>\n",
       "      <th>Ghome</th>\n",
       "      <th>W</th>\n",
       "      <th>L</th>\n",
       "      <th>...</th>\n",
       "      <th>DP</th>\n",
       "      <th>FP</th>\n",
       "      <th>name</th>\n",
       "      <th>park</th>\n",
       "      <th>attendance</th>\n",
       "      <th>BPF</th>\n",
       "      <th>PPF</th>\n",
       "      <th>teamIDBR</th>\n",
       "      <th>teamIDlahman45</th>\n",
       "      <th>teamIDretro</th>\n",
       "    </tr>\n",
       "  </thead>\n",
       "  <tbody>\n",
       "    <tr>\n",
       "      <th>2343</th>\n",
       "      <td>2000</td>\n",
       "      <td>AL</td>\n",
       "      <td>NYA</td>\n",
       "      <td>NYY</td>\n",
       "      <td>E</td>\n",
       "      <td>1</td>\n",
       "      <td>161</td>\n",
       "      <td>80</td>\n",
       "      <td>87</td>\n",
       "      <td>74</td>\n",
       "      <td>...</td>\n",
       "      <td>132</td>\n",
       "      <td>0.981</td>\n",
       "      <td>New York Yankees</td>\n",
       "      <td>Yankee Stadium II</td>\n",
       "      <td>3055435</td>\n",
       "      <td>99</td>\n",
       "      <td>98</td>\n",
       "      <td>NYY</td>\n",
       "      <td>NYA</td>\n",
       "      <td>NYA</td>\n",
       "    </tr>\n",
       "    <tr>\n",
       "      <th>2612</th>\n",
       "      <td>2009</td>\n",
       "      <td>AL</td>\n",
       "      <td>NYA</td>\n",
       "      <td>NYY</td>\n",
       "      <td>E</td>\n",
       "      <td>1</td>\n",
       "      <td>162</td>\n",
       "      <td>81</td>\n",
       "      <td>103</td>\n",
       "      <td>59</td>\n",
       "      <td>...</td>\n",
       "      <td>131</td>\n",
       "      <td>0.985</td>\n",
       "      <td>New York Yankees</td>\n",
       "      <td>Yankee Stadium III</td>\n",
       "      <td>3719358</td>\n",
       "      <td>105</td>\n",
       "      <td>103</td>\n",
       "      <td>NYY</td>\n",
       "      <td>NYA</td>\n",
       "      <td>NYA</td>\n",
       "    </tr>\n",
       "  </tbody>\n",
       "</table>\n",
       "<p>2 rows × 48 columns</p>\n",
       "</div>"
      ],
      "text/plain": [
       "      yearID lgID teamID franchID divID  Rank    G  Ghome    W   L  \\\n",
       "2343    2000   AL    NYA      NYY     E     1  161     80   87  74   \n",
       "2612    2009   AL    NYA      NYY     E     1  162     81  103  59   \n",
       "\n",
       "         ...        DP     FP              name                park  \\\n",
       "2343     ...       132  0.981  New York Yankees   Yankee Stadium II   \n",
       "2612     ...       131  0.985  New York Yankees  Yankee Stadium III   \n",
       "\n",
       "      attendance  BPF  PPF  teamIDBR  teamIDlahman45  teamIDretro  \n",
       "2343     3055435   99   98       NYY             NYA          NYA  \n",
       "2612     3719358  105  103       NYY             NYA          NYA  \n",
       "\n",
       "[2 rows x 48 columns]"
      ]
     },
     "execution_count": 233,
     "metadata": {},
     "output_type": "execute_result"
    }
   ],
   "source": [
    "team[(team[\"teamID\"]==\"NYA\") &(team[\"WSWin\"]==\"Y\") & (team[\"yearID\"]>=2000)]"
   ]
  },
  {
   "cell_type": "markdown",
   "metadata": {},
   "source": [
    "The graph and table explain that NYA was 1st rank for 10 times within 14 years, and in 2000 and 2009, NYA was World Series Winner."
   ]
  },
  {
   "cell_type": "markdown",
   "metadata": {},
   "source": [
    "I'll introduce \"average salary divided by number of Wins\" to see how much salary the team pays for a win.\n",
    "This will show us the most efficient team per win."
   ]
  },
  {
   "cell_type": "code",
   "execution_count": 234,
   "metadata": {
    "collapsed": false
   },
   "outputs": [
    {
     "name": "stderr",
     "output_type": "stream",
     "text": [
      "/Users/Ryosuke/anaconda/lib/python2.7/site-packages/ipykernel/__main__.py:2: FutureWarning: sort(columns=....) is deprecated, use sort_values(by=.....)\n",
      "  from ipykernel import kernelapp as app\n"
     ]
    },
    {
     "data": {
      "text/html": [
       "<div>\n",
       "<table border=\"1\" class=\"dataframe\">\n",
       "  <thead>\n",
       "    <tr style=\"text-align: right;\">\n",
       "      <th></th>\n",
       "      <th>teamID</th>\n",
       "      <th>yearID</th>\n",
       "      <th>salary</th>\n",
       "      <th>Rank</th>\n",
       "      <th>G</th>\n",
       "      <th>Ghome</th>\n",
       "      <th>W</th>\n",
       "      <th>L</th>\n",
       "      <th>R</th>\n",
       "      <th>AB</th>\n",
       "      <th>...</th>\n",
       "      <th>HRA</th>\n",
       "      <th>BBA</th>\n",
       "      <th>SOA</th>\n",
       "      <th>E</th>\n",
       "      <th>DP</th>\n",
       "      <th>FP</th>\n",
       "      <th>attendance</th>\n",
       "      <th>BPF</th>\n",
       "      <th>PPF</th>\n",
       "      <th>salary_per_win</th>\n",
       "    </tr>\n",
       "  </thead>\n",
       "  <tbody>\n",
       "    <tr>\n",
       "      <th>11</th>\n",
       "      <td>FLO</td>\n",
       "      <td>2005.451613</td>\n",
       "      <td>1370715.577713</td>\n",
       "      <td>3.410557</td>\n",
       "      <td>161.821114</td>\n",
       "      <td>80.601173</td>\n",
       "      <td>80.302053</td>\n",
       "      <td>81.519062</td>\n",
       "      <td>734.445748</td>\n",
       "      <td>5522.970674</td>\n",
       "      <td>...</td>\n",
       "      <td>152.451613</td>\n",
       "      <td>586.442815</td>\n",
       "      <td>1136.178886</td>\n",
       "      <td>108.706745</td>\n",
       "      <td>150.331378</td>\n",
       "      <td>0.981968</td>\n",
       "      <td>1372803.530792</td>\n",
       "      <td>97.882698</td>\n",
       "      <td>98.208211</td>\n",
       "      <td>17069.496111</td>\n",
       "    </tr>\n",
       "    <tr>\n",
       "      <th>19</th>\n",
       "      <td>MON</td>\n",
       "      <td>2001.965035</td>\n",
       "      <td>1396296.034965</td>\n",
       "      <td>4.027972</td>\n",
       "      <td>162.000000</td>\n",
       "      <td>80.797203</td>\n",
       "      <td>73.258741</td>\n",
       "      <td>88.741259</td>\n",
       "      <td>696.874126</td>\n",
       "      <td>5460.027972</td>\n",
       "      <td>...</td>\n",
       "      <td>181.846154</td>\n",
       "      <td>532.909091</td>\n",
       "      <td>1053.370629</td>\n",
       "      <td>116.020979</td>\n",
       "      <td>154.601399</td>\n",
       "      <td>0.980993</td>\n",
       "      <td>824669.979021</td>\n",
       "      <td>103.335664</td>\n",
       "      <td>103.755245</td>\n",
       "      <td>19059.787419</td>\n",
       "    </tr>\n",
       "    <tr>\n",
       "      <th>29</th>\n",
       "      <td>TBA</td>\n",
       "      <td>2006.855746</td>\n",
       "      <td>1716285.757946</td>\n",
       "      <td>3.677262</td>\n",
       "      <td>161.845966</td>\n",
       "      <td>80.858191</td>\n",
       "      <td>75.929095</td>\n",
       "      <td>85.916870</td>\n",
       "      <td>723.202934</td>\n",
       "      <td>5513.833741</td>\n",
       "      <td>...</td>\n",
       "      <td>180.743276</td>\n",
       "      <td>546.227384</td>\n",
       "      <td>1099.921760</td>\n",
       "      <td>105.374083</td>\n",
       "      <td>146.195599</td>\n",
       "      <td>0.982408</td>\n",
       "      <td>1445224.320293</td>\n",
       "      <td>97.088020</td>\n",
       "      <td>97.760391</td>\n",
       "      <td>22603.795685</td>\n",
       "    </tr>\n",
       "    <tr>\n",
       "      <th>22</th>\n",
       "      <td>OAK</td>\n",
       "      <td>2007.137019</td>\n",
       "      <td>2000217.447115</td>\n",
       "      <td>1.932692</td>\n",
       "      <td>161.867788</td>\n",
       "      <td>81.000000</td>\n",
       "      <td>88.100962</td>\n",
       "      <td>73.766827</td>\n",
       "      <td>757.889423</td>\n",
       "      <td>5541.923077</td>\n",
       "      <td>...</td>\n",
       "      <td>149.454327</td>\n",
       "      <td>503.622596</td>\n",
       "      <td>1084.262019</td>\n",
       "      <td>104.391827</td>\n",
       "      <td>151.459135</td>\n",
       "      <td>0.982990</td>\n",
       "      <td>1843218.225962</td>\n",
       "      <td>97.639423</td>\n",
       "      <td>96.980769</td>\n",
       "      <td>22703.695989</td>\n",
       "    </tr>\n",
       "    <tr>\n",
       "      <th>24</th>\n",
       "      <td>PIT</td>\n",
       "      <td>2006.973558</td>\n",
       "      <td>1764438.675481</td>\n",
       "      <td>4.718750</td>\n",
       "      <td>161.802885</td>\n",
       "      <td>80.795673</td>\n",
       "      <td>71.454327</td>\n",
       "      <td>90.348558</td>\n",
       "      <td>675.997596</td>\n",
       "      <td>5492.593750</td>\n",
       "      <td>...</td>\n",
       "      <td>155.990385</td>\n",
       "      <td>562.634615</td>\n",
       "      <td>1035.415865</td>\n",
       "      <td>110.713942</td>\n",
       "      <td>164.225962</td>\n",
       "      <td>0.982149</td>\n",
       "      <td>1887553.271635</td>\n",
       "      <td>98.245192</td>\n",
       "      <td>99.177885</td>\n",
       "      <td>24693.237645</td>\n",
       "    </tr>\n",
       "  </tbody>\n",
       "</table>\n",
       "<p>5 rows × 38 columns</p>\n",
       "</div>"
      ],
      "text/plain": [
       "   teamID       yearID          salary      Rank           G      Ghome  \\\n",
       "11    FLO  2005.451613  1370715.577713  3.410557  161.821114  80.601173   \n",
       "19    MON  2001.965035  1396296.034965  4.027972  162.000000  80.797203   \n",
       "29    TBA  2006.855746  1716285.757946  3.677262  161.845966  80.858191   \n",
       "22    OAK  2007.137019  2000217.447115  1.932692  161.867788  81.000000   \n",
       "24    PIT  2006.973558  1764438.675481  4.718750  161.802885  80.795673   \n",
       "\n",
       "            W          L           R           AB       ...               HRA  \\\n",
       "11  80.302053  81.519062  734.445748  5522.970674       ...        152.451613   \n",
       "19  73.258741  88.741259  696.874126  5460.027972       ...        181.846154   \n",
       "29  75.929095  85.916870  723.202934  5513.833741       ...        180.743276   \n",
       "22  88.100962  73.766827  757.889423  5541.923077       ...        149.454327   \n",
       "24  71.454327  90.348558  675.997596  5492.593750       ...        155.990385   \n",
       "\n",
       "           BBA          SOA           E          DP        FP      attendance  \\\n",
       "11  586.442815  1136.178886  108.706745  150.331378  0.981968  1372803.530792   \n",
       "19  532.909091  1053.370629  116.020979  154.601399  0.980993   824669.979021   \n",
       "29  546.227384  1099.921760  105.374083  146.195599  0.982408  1445224.320293   \n",
       "22  503.622596  1084.262019  104.391827  151.459135  0.982990  1843218.225962   \n",
       "24  562.634615  1035.415865  110.713942  164.225962  0.982149  1887553.271635   \n",
       "\n",
       "           BPF         PPF  salary_per_win  \n",
       "11   97.882698   98.208211    17069.496111  \n",
       "19  103.335664  103.755245    19059.787419  \n",
       "29   97.088020   97.760391    22603.795685  \n",
       "22   97.639423   96.980769    22703.695989  \n",
       "24   98.245192   99.177885    24693.237645  \n",
       "\n",
       "[5 rows x 38 columns]"
      ]
     },
     "execution_count": 234,
     "metadata": {},
     "output_type": "execute_result"
    }
   ],
   "source": [
    "team_above_2000[\"salary_per_win\"]=team_above_2000[\"salary\"]/team_above_2000[\"W\"]\n",
    "team_above_2000.sort(\"salary_per_win\").head()"
   ]
  },
  {
   "cell_type": "markdown",
   "metadata": {},
   "source": [
    "The more the team pay, the higher rank they can get seem to be fact and vice versa.\n",
    "However, OAK deserves to watch much deeper since the average salary is 4th smallest but the average rank is 1.93(5th highest)."
   ]
  },
  {
   "cell_type": "code",
   "execution_count": 235,
   "metadata": {
    "collapsed": false
   },
   "outputs": [
    {
     "data": {
      "text/html": [
       "<div>\n",
       "<table border=\"1\" class=\"dataframe\">\n",
       "  <thead>\n",
       "    <tr style=\"text-align: right;\">\n",
       "      <th></th>\n",
       "      <th>yearID</th>\n",
       "      <th>lgID</th>\n",
       "      <th>teamID</th>\n",
       "      <th>franchID</th>\n",
       "      <th>divID</th>\n",
       "      <th>Rank</th>\n",
       "      <th>G</th>\n",
       "      <th>Ghome</th>\n",
       "      <th>W</th>\n",
       "      <th>L</th>\n",
       "      <th>...</th>\n",
       "      <th>DP</th>\n",
       "      <th>FP</th>\n",
       "      <th>name</th>\n",
       "      <th>park</th>\n",
       "      <th>attendance</th>\n",
       "      <th>BPF</th>\n",
       "      <th>PPF</th>\n",
       "      <th>teamIDBR</th>\n",
       "      <th>teamIDlahman45</th>\n",
       "      <th>teamIDretro</th>\n",
       "    </tr>\n",
       "  </thead>\n",
       "  <tbody>\n",
       "    <tr>\n",
       "      <th>2345</th>\n",
       "      <td>2000</td>\n",
       "      <td>AL</td>\n",
       "      <td>OAK</td>\n",
       "      <td>OAK</td>\n",
       "      <td>W</td>\n",
       "      <td>1</td>\n",
       "      <td>161</td>\n",
       "      <td>81</td>\n",
       "      <td>91</td>\n",
       "      <td>70</td>\n",
       "      <td>...</td>\n",
       "      <td>164</td>\n",
       "      <td>0.978</td>\n",
       "      <td>Oakland Athletics</td>\n",
       "      <td>Oakland Coliseum</td>\n",
       "      <td>1603744</td>\n",
       "      <td>96</td>\n",
       "      <td>95</td>\n",
       "      <td>OAK</td>\n",
       "      <td>OAK</td>\n",
       "      <td>OAK</td>\n",
       "    </tr>\n",
       "    <tr>\n",
       "      <th>2375</th>\n",
       "      <td>2001</td>\n",
       "      <td>AL</td>\n",
       "      <td>OAK</td>\n",
       "      <td>OAK</td>\n",
       "      <td>W</td>\n",
       "      <td>2</td>\n",
       "      <td>162</td>\n",
       "      <td>81</td>\n",
       "      <td>102</td>\n",
       "      <td>60</td>\n",
       "      <td>...</td>\n",
       "      <td>151</td>\n",
       "      <td>0.980</td>\n",
       "      <td>Oakland Athletics</td>\n",
       "      <td>Oakland Coliseum</td>\n",
       "      <td>2133277</td>\n",
       "      <td>99</td>\n",
       "      <td>97</td>\n",
       "      <td>OAK</td>\n",
       "      <td>OAK</td>\n",
       "      <td>OAK</td>\n",
       "    </tr>\n",
       "    <tr>\n",
       "      <th>2405</th>\n",
       "      <td>2002</td>\n",
       "      <td>AL</td>\n",
       "      <td>OAK</td>\n",
       "      <td>OAK</td>\n",
       "      <td>W</td>\n",
       "      <td>1</td>\n",
       "      <td>162</td>\n",
       "      <td>81</td>\n",
       "      <td>103</td>\n",
       "      <td>59</td>\n",
       "      <td>...</td>\n",
       "      <td>144</td>\n",
       "      <td>0.984</td>\n",
       "      <td>Oakland Athletics</td>\n",
       "      <td>Oakland Coliseum</td>\n",
       "      <td>2169811</td>\n",
       "      <td>98</td>\n",
       "      <td>97</td>\n",
       "      <td>OAK</td>\n",
       "      <td>OAK</td>\n",
       "      <td>OAK</td>\n",
       "    </tr>\n",
       "    <tr>\n",
       "      <th>2435</th>\n",
       "      <td>2003</td>\n",
       "      <td>AL</td>\n",
       "      <td>OAK</td>\n",
       "      <td>OAK</td>\n",
       "      <td>W</td>\n",
       "      <td>1</td>\n",
       "      <td>162</td>\n",
       "      <td>81</td>\n",
       "      <td>96</td>\n",
       "      <td>66</td>\n",
       "      <td>...</td>\n",
       "      <td>145</td>\n",
       "      <td>0.983</td>\n",
       "      <td>Oakland Athletics</td>\n",
       "      <td>Oakland Coliseum</td>\n",
       "      <td>2216596</td>\n",
       "      <td>99</td>\n",
       "      <td>98</td>\n",
       "      <td>OAK</td>\n",
       "      <td>OAK</td>\n",
       "      <td>OAK</td>\n",
       "    </tr>\n",
       "    <tr>\n",
       "      <th>2465</th>\n",
       "      <td>2004</td>\n",
       "      <td>AL</td>\n",
       "      <td>OAK</td>\n",
       "      <td>OAK</td>\n",
       "      <td>W</td>\n",
       "      <td>2</td>\n",
       "      <td>162</td>\n",
       "      <td>81</td>\n",
       "      <td>91</td>\n",
       "      <td>71</td>\n",
       "      <td>...</td>\n",
       "      <td>172</td>\n",
       "      <td>0.986</td>\n",
       "      <td>Oakland Athletics</td>\n",
       "      <td>Network Associates Coliseum</td>\n",
       "      <td>2201516</td>\n",
       "      <td>99</td>\n",
       "      <td>98</td>\n",
       "      <td>OAK</td>\n",
       "      <td>OAK</td>\n",
       "      <td>OAK</td>\n",
       "    </tr>\n",
       "  </tbody>\n",
       "</table>\n",
       "<p>5 rows × 48 columns</p>\n",
       "</div>"
      ],
      "text/plain": [
       "      yearID lgID teamID franchID divID  Rank    G  Ghome    W   L  \\\n",
       "2345    2000   AL    OAK      OAK     W     1  161     81   91  70   \n",
       "2375    2001   AL    OAK      OAK     W     2  162     81  102  60   \n",
       "2405    2002   AL    OAK      OAK     W     1  162     81  103  59   \n",
       "2435    2003   AL    OAK      OAK     W     1  162     81   96  66   \n",
       "2465    2004   AL    OAK      OAK     W     2  162     81   91  71   \n",
       "\n",
       "         ...        DP     FP               name                         park  \\\n",
       "2345     ...       164  0.978  Oakland Athletics             Oakland Coliseum   \n",
       "2375     ...       151  0.980  Oakland Athletics             Oakland Coliseum   \n",
       "2405     ...       144  0.984  Oakland Athletics             Oakland Coliseum   \n",
       "2435     ...       145  0.983  Oakland Athletics             Oakland Coliseum   \n",
       "2465     ...       172  0.986  Oakland Athletics  Network Associates Coliseum   \n",
       "\n",
       "      attendance  BPF  PPF  teamIDBR  teamIDlahman45  teamIDretro  \n",
       "2345     1603744   96   95       OAK             OAK          OAK  \n",
       "2375     2133277   99   97       OAK             OAK          OAK  \n",
       "2405     2169811   98   97       OAK             OAK          OAK  \n",
       "2435     2216596   99   98       OAK             OAK          OAK  \n",
       "2465     2201516   99   98       OAK             OAK          OAK  \n",
       "\n",
       "[5 rows x 48 columns]"
      ]
     },
     "execution_count": 235,
     "metadata": {},
     "output_type": "execute_result"
    }
   ],
   "source": [
    "oak_rank=team[(team[\"teamID\"]==\"OAK\") &(team[\"yearID\"]>=2000)]\n",
    "oak_rank.head()"
   ]
  },
  {
   "cell_type": "code",
   "execution_count": 236,
   "metadata": {
    "collapsed": false,
    "scrolled": true
   },
   "outputs": [
    {
     "data": {
      "text/plain": [
       "<matplotlib.text.Text at 0x11a803110>"
      ]
     },
     "execution_count": 236,
     "metadata": {},
     "output_type": "execute_result"
    },
    {
     "data": {
      "image/png": "[encoded data removed]",
      "text/plain": [
       "<matplotlib.figure.Figure at 0x11a5ea150>"
      ]
     },
     "metadata": {},
     "output_type": "display_data"
    }
   ],
   "source": [
    "plt.plot(oak_rank[\"yearID\"],oak_rank[\"Rank\"])\n",
    "plt.xlabel(\"Year\")\n",
    "plt.ylabel(\"Rank\")"
   ]
  },
  {
   "cell_type": "code",
   "execution_count": 237,
   "metadata": {
    "collapsed": false
   },
   "outputs": [
    {
     "data": {
      "text/plain": [
       "0"
      ]
     },
     "execution_count": 237,
     "metadata": {},
     "output_type": "execute_result"
    }
   ],
   "source": [
    "len(oak_rank[oak_rank[\"WSWin\"]==\"Y\"])"
   ]
  },
  {
   "cell_type": "markdown",
   "metadata": {},
   "source": [
    "OAK became 1st rank for 6 times from 2000 to 2014,however has never become World champion.\n",
    "\n",
    "What is the difference among NYA and OAK and average of all the teams?\n",
    "Before diving into that, I'd like to check the salary in NYA and OAK since the outliers may effect the average salary significantly.\n"
   ]
  },
  {
   "cell_type": "code",
   "execution_count": null,
   "metadata": {
    "collapsed": false
   },
   "outputs": [],
   "source": []
  },
  {
   "cell_type": "code",
   "execution_count": 238,
   "metadata": {
    "collapsed": true
   },
   "outputs": [],
   "source": [
    "salary_NYA=salary[(salary[\"teamID\"]==\"NYA\") & (salary[\"yearID\"]>=2000)]\n",
    "salary_OAK=salary[(salary[\"teamID\"]==\"OAK\") & (salary[\"yearID\"]>=2000)]"
   ]
  },
  {
   "cell_type": "code",
   "execution_count": 239,
   "metadata": {
    "collapsed": false
   },
   "outputs": [
    {
     "data": {
      "text/plain": [
       "<matplotlib.axes._subplots.AxesSubplot at 0x1107812d0>"
      ]
     },
     "execution_count": 239,
     "metadata": {},
     "output_type": "execute_result"
    },
    {
     "data": {
      "image/png": "[encoded data removed]",
      "text/plain": [
       "<matplotlib.figure.Figure at 0x1107547d0>"
      ]
     },
     "metadata": {},
     "output_type": "display_data"
    }
   ],
   "source": [
    "sns.boxplot(x=\"yearID\",y=\"salary\",data=salary_NYA)"
   ]
  },
  {
   "cell_type": "code",
   "execution_count": 240,
   "metadata": {
    "collapsed": false
   },
   "outputs": [
    {
     "data": {
      "text/plain": [
       "<matplotlib.axes._subplots.AxesSubplot at 0x10fc487d0>"
      ]
     },
     "execution_count": 240,
     "metadata": {},
     "output_type": "execute_result"
    },
    {
     "data": {
      "image/png": "[encoded data removed]",
      "text/plain": [
       "<matplotlib.figure.Figure at 0x10fc5d310>"
      ]
     },
     "metadata": {},
     "output_type": "display_data"
    }
   ],
   "source": [
    "sns.boxplot(x=\"yearID\",y=\"salary\",data=salary_OAK)"
   ]
  },
  {
   "cell_type": "markdown",
   "metadata": {},
   "source": [
    "NYA has small number of outliers(much higher salary than OAK though) and OAK has several outliers.\n",
    "and the median in NYA is much higher than OAK.This means that the average salary of OAK is largely affected by outliers(still cheaper than NYA).\n",
    "\n",
    "<br>I'll investigate the 2014's salary of both teams below."
   ]
  },
  {
   "cell_type": "code",
   "execution_count": 241,
   "metadata": {
    "collapsed": false
   },
   "outputs": [],
   "source": [
    "salary_OAK_2014=salary_OAK[(salary_OAK[\"yearID\"]==2014)]\n",
    "salary_NYA_2014=salary_NYA[(salary_NYA[\"yearID\"]==2014)]"
   ]
  },
  {
   "cell_type": "code",
   "execution_count": 242,
   "metadata": {
    "collapsed": false
   },
   "outputs": [
    {
     "data": {
      "text/plain": [
       "<matplotlib.legend.Legend at 0x11dc2b890>"
      ]
     },
     "execution_count": 242,
     "metadata": {},
     "output_type": "execute_result"
    },
    {
     "data": {
      "image/png": "[encoded data removed]",
      "text/plain": [
       "<matplotlib.figure.Figure at 0x11ccfa450>"
      ]
     },
     "metadata": {},
     "output_type": "display_data"
    }
   ],
   "source": [
    "plt.hist(salary_OAK_2014[\"salary\"],alpha=0.5,label=\"OAK\")\n",
    "plt.hist(salary_NYA_2014[\"salary\"],alpha=0.5,label=\"NYA\")\n",
    "plt.legend()"
   ]
  },
  {
   "cell_type": "markdown",
   "metadata": {},
   "source": [
    "There are 9 players in NYA who surpass 10 million dollars,however there are 2 players in OAK who are around 10 millon dollars."
   ]
  },
  {
   "cell_type": "markdown",
   "metadata": {},
   "source": [
    "#  What is the difference among NYA and OAK and average of all the teams?"
   ]
  },
  {
   "cell_type": "code",
   "execution_count": 243,
   "metadata": {
    "collapsed": false
   },
   "outputs": [
    {
     "data": {
      "text/html": [
       "<div>\n",
       "<table border=\"1\" class=\"dataframe\">\n",
       "  <thead>\n",
       "    <tr style=\"text-align: right;\">\n",
       "      <th></th>\n",
       "      <th>yearID</th>\n",
       "      <th>teamID</th>\n",
       "      <th>weight</th>\n",
       "      <th>height</th>\n",
       "      <th>stint</th>\n",
       "      <th>G</th>\n",
       "      <th>AB</th>\n",
       "      <th>R</th>\n",
       "      <th>H</th>\n",
       "      <th>2B</th>\n",
       "      <th>...</th>\n",
       "      <th>IBB</th>\n",
       "      <th>HBP</th>\n",
       "      <th>SH</th>\n",
       "      <th>SF</th>\n",
       "      <th>GIDP</th>\n",
       "      <th>salary</th>\n",
       "      <th>AVE</th>\n",
       "      <th>OBP</th>\n",
       "      <th>SLG</th>\n",
       "      <th>OPS</th>\n",
       "    </tr>\n",
       "  </thead>\n",
       "  <tbody>\n",
       "    <tr>\n",
       "      <th>0</th>\n",
       "      <td>2000</td>\n",
       "      <td>ANA</td>\n",
       "      <td>5389</td>\n",
       "      <td>2055</td>\n",
       "      <td>28</td>\n",
       "      <td>1981</td>\n",
       "      <td>5255</td>\n",
       "      <td>816</td>\n",
       "      <td>1492</td>\n",
       "      <td>290</td>\n",
       "      <td>...</td>\n",
       "      <td>43</td>\n",
       "      <td>45</td>\n",
       "      <td>38</td>\n",
       "      <td>41</td>\n",
       "      <td>117</td>\n",
       "      <td>51064167</td>\n",
       "      <td>0.283920</td>\n",
       "      <td>0.354379</td>\n",
       "      <td>0.481827</td>\n",
       "      <td>0.836206</td>\n",
       "    </tr>\n",
       "    <tr>\n",
       "      <th>1</th>\n",
       "      <td>2000</td>\n",
       "      <td>ARI</td>\n",
       "      <td>5353</td>\n",
       "      <td>2056</td>\n",
       "      <td>31</td>\n",
       "      <td>1814</td>\n",
       "      <td>4772</td>\n",
       "      <td>687</td>\n",
       "      <td>1254</td>\n",
       "      <td>245</td>\n",
       "      <td>...</td>\n",
       "      <td>31</td>\n",
       "      <td>51</td>\n",
       "      <td>43</td>\n",
       "      <td>48</td>\n",
       "      <td>92</td>\n",
       "      <td>82729500</td>\n",
       "      <td>0.262783</td>\n",
       "      <td>0.332834</td>\n",
       "      <td>0.428961</td>\n",
       "      <td>0.761795</td>\n",
       "    </tr>\n",
       "    <tr>\n",
       "      <th>2</th>\n",
       "      <td>2000</td>\n",
       "      <td>ATL</td>\n",
       "      <td>5234</td>\n",
       "      <td>1975</td>\n",
       "      <td>27</td>\n",
       "      <td>1994</td>\n",
       "      <td>5118</td>\n",
       "      <td>760</td>\n",
       "      <td>1413</td>\n",
       "      <td>259</td>\n",
       "      <td>...</td>\n",
       "      <td>34</td>\n",
       "      <td>54</td>\n",
       "      <td>81</td>\n",
       "      <td>44</td>\n",
       "      <td>114</td>\n",
       "      <td>75617836</td>\n",
       "      <td>0.276084</td>\n",
       "      <td>0.351833</td>\n",
       "      <td>0.438062</td>\n",
       "      <td>0.789894</td>\n",
       "    </tr>\n",
       "    <tr>\n",
       "      <th>3</th>\n",
       "      <td>2000</td>\n",
       "      <td>BAL</td>\n",
       "      <td>5397</td>\n",
       "      <td>2057</td>\n",
       "      <td>28</td>\n",
       "      <td>1652</td>\n",
       "      <td>4407</td>\n",
       "      <td>655</td>\n",
       "      <td>1218</td>\n",
       "      <td>246</td>\n",
       "      <td>...</td>\n",
       "      <td>31</td>\n",
       "      <td>31</td>\n",
       "      <td>20</td>\n",
       "      <td>43</td>\n",
       "      <td>121</td>\n",
       "      <td>81247435</td>\n",
       "      <td>0.276378</td>\n",
       "      <td>0.348912</td>\n",
       "      <td>0.444520</td>\n",
       "      <td>0.793432</td>\n",
       "    </tr>\n",
       "    <tr>\n",
       "      <th>4</th>\n",
       "      <td>2000</td>\n",
       "      <td>BOS</td>\n",
       "      <td>4924</td>\n",
       "      <td>1894</td>\n",
       "      <td>26</td>\n",
       "      <td>1840</td>\n",
       "      <td>4539</td>\n",
       "      <td>663</td>\n",
       "      <td>1236</td>\n",
       "      <td>267</td>\n",
       "      <td>...</td>\n",
       "      <td>37</td>\n",
       "      <td>31</td>\n",
       "      <td>27</td>\n",
       "      <td>38</td>\n",
       "      <td>83</td>\n",
       "      <td>69277833</td>\n",
       "      <td>0.272307</td>\n",
       "      <td>0.349494</td>\n",
       "      <td>0.440626</td>\n",
       "      <td>0.790119</td>\n",
       "    </tr>\n",
       "  </tbody>\n",
       "</table>\n",
       "<p>5 rows × 27 columns</p>\n",
       "</div>"
      ],
      "text/plain": [
       "   yearID teamID  weight  height  stint     G    AB    R     H   2B    ...     \\\n",
       "0    2000    ANA    5389    2055     28  1981  5255  816  1492  290    ...      \n",
       "1    2000    ARI    5353    2056     31  1814  4772  687  1254  245    ...      \n",
       "2    2000    ATL    5234    1975     27  1994  5118  760  1413  259    ...      \n",
       "3    2000    BAL    5397    2057     28  1652  4407  655  1218  246    ...      \n",
       "4    2000    BOS    4924    1894     26  1840  4539  663  1236  267    ...      \n",
       "\n",
       "   IBB  HBP  SH  SF  GIDP    salary       AVE       OBP       SLG       OPS  \n",
       "0   43   45  38  41   117  51064167  0.283920  0.354379  0.481827  0.836206  \n",
       "1   31   51  43  48    92  82729500  0.262783  0.332834  0.428961  0.761795  \n",
       "2   34   54  81  44   114  75617836  0.276084  0.351833  0.438062  0.789894  \n",
       "3   31   31  20  43   121  81247435  0.276378  0.348912  0.444520  0.793432  \n",
       "4   37   31  27  38    83  69277833  0.272307  0.349494  0.440626  0.790119  \n",
       "\n",
       "[5 rows x 27 columns]"
      ]
     },
     "execution_count": 243,
     "metadata": {},
     "output_type": "execute_result"
    }
   ],
   "source": [
    "batter=batting[batting[\"yearID\"]>=2000].groupby([\"yearID\",\"teamID\"],as_index=False).sum()\n",
    "batter[\"AVE\"]=batter[\"H\"]/batter[\"AB\"]\n",
    "batter[\"OBP\"]=(batter[\"H\"]+batter[\"BB\"]+batter[\"HBP\"])/(batter[\"AB\"]+batter[\"BB\"]+batter[\"HBP\"]+batter[\"SF\"])\n",
    "batter[\"SLG\"]=((batter[\"H\"]-batter[\"2B\"]-batter[\"3B\"]-batter[\"HR\"])*1.0+batter[\"2B\"]*2+batter[\"3B\"]*3+batter[\"HR\"]*4)/batter[\"AB\"]\n",
    "batter[\"OPS\"]=batter[\"OBP\"]+batter[\"SLG\"]\n",
    "batter.head()"
   ]
  },
  {
   "cell_type": "markdown",
   "metadata": {},
   "source": [
    "I introduced some of common indicators.\n",
    "<br>AVE:Average\n",
    "<br>OBP:On Base Percentage\n",
    "<br>SLG:Slugging Percentage\n",
    "<br>OPS:On-ase Plus Slugging"
   ]
  },
  {
   "cell_type": "code",
   "execution_count": 244,
   "metadata": {
    "collapsed": false
   },
   "outputs": [
    {
     "data": {
      "text/html": [
       "<div>\n",
       "<table border=\"1\" class=\"dataframe\">\n",
       "  <thead>\n",
       "    <tr style=\"text-align: right;\">\n",
       "      <th></th>\n",
       "      <th>yearID</th>\n",
       "      <th>teamID</th>\n",
       "      <th>weight</th>\n",
       "      <th>height</th>\n",
       "      <th>stint</th>\n",
       "      <th>G</th>\n",
       "      <th>AB</th>\n",
       "      <th>R</th>\n",
       "      <th>H</th>\n",
       "      <th>2B</th>\n",
       "      <th>...</th>\n",
       "      <th>IBB</th>\n",
       "      <th>HBP</th>\n",
       "      <th>SH</th>\n",
       "      <th>SF</th>\n",
       "      <th>GIDP</th>\n",
       "      <th>salary</th>\n",
       "      <th>AVE</th>\n",
       "      <th>OBP</th>\n",
       "      <th>SLG</th>\n",
       "      <th>OPS</th>\n",
       "    </tr>\n",
       "  </thead>\n",
       "  <tbody>\n",
       "    <tr>\n",
       "      <th>20</th>\n",
       "      <td>2000</td>\n",
       "      <td>OAK</td>\n",
       "      <td>5297</td>\n",
       "      <td>1966</td>\n",
       "      <td>27</td>\n",
       "      <td>1976</td>\n",
       "      <td>4647</td>\n",
       "      <td>793</td>\n",
       "      <td>1249</td>\n",
       "      <td>235</td>\n",
       "      <td>...</td>\n",
       "      <td>31</td>\n",
       "      <td>48</td>\n",
       "      <td>25</td>\n",
       "      <td>40</td>\n",
       "      <td>124</td>\n",
       "      <td>31971333</td>\n",
       "      <td>0.268776</td>\n",
       "      <td>0.363097</td>\n",
       "      <td>0.461588</td>\n",
       "      <td>0.824686</td>\n",
       "    </tr>\n",
       "    <tr>\n",
       "      <th>50</th>\n",
       "      <td>2001</td>\n",
       "      <td>OAK</td>\n",
       "      <td>5371</td>\n",
       "      <td>1970</td>\n",
       "      <td>27</td>\n",
       "      <td>1878</td>\n",
       "      <td>4901</td>\n",
       "      <td>769</td>\n",
       "      <td>1309</td>\n",
       "      <td>298</td>\n",
       "      <td>...</td>\n",
       "      <td>53</td>\n",
       "      <td>79</td>\n",
       "      <td>23</td>\n",
       "      <td>50</td>\n",
       "      <td>120</td>\n",
       "      <td>33810750</td>\n",
       "      <td>0.267088</td>\n",
       "      <td>0.348596</td>\n",
       "      <td>0.439502</td>\n",
       "      <td>0.788098</td>\n",
       "    </tr>\n",
       "    <tr>\n",
       "      <th>80</th>\n",
       "      <td>2002</td>\n",
       "      <td>OAK</td>\n",
       "      <td>5109</td>\n",
       "      <td>1901</td>\n",
       "      <td>26</td>\n",
       "      <td>1821</td>\n",
       "      <td>4499</td>\n",
       "      <td>618</td>\n",
       "      <td>1174</td>\n",
       "      <td>223</td>\n",
       "      <td>...</td>\n",
       "      <td>34</td>\n",
       "      <td>54</td>\n",
       "      <td>9</td>\n",
       "      <td>25</td>\n",
       "      <td>112</td>\n",
       "      <td>39781167</td>\n",
       "      <td>0.260947</td>\n",
       "      <td>0.340551</td>\n",
       "      <td>0.432985</td>\n",
       "      <td>0.773536</td>\n",
       "    </tr>\n",
       "    <tr>\n",
       "      <th>110</th>\n",
       "      <td>2003</td>\n",
       "      <td>OAK</td>\n",
       "      <td>5134</td>\n",
       "      <td>1902</td>\n",
       "      <td>26</td>\n",
       "      <td>1942</td>\n",
       "      <td>5034</td>\n",
       "      <td>712</td>\n",
       "      <td>1279</td>\n",
       "      <td>289</td>\n",
       "      <td>...</td>\n",
       "      <td>50</td>\n",
       "      <td>51</td>\n",
       "      <td>20</td>\n",
       "      <td>50</td>\n",
       "      <td>104</td>\n",
       "      <td>50260834</td>\n",
       "      <td>0.254072</td>\n",
       "      <td>0.326668</td>\n",
       "      <td>0.414184</td>\n",
       "      <td>0.740851</td>\n",
       "    </tr>\n",
       "    <tr>\n",
       "      <th>140</th>\n",
       "      <td>2004</td>\n",
       "      <td>OAK</td>\n",
       "      <td>5351</td>\n",
       "      <td>1979</td>\n",
       "      <td>27</td>\n",
       "      <td>2070</td>\n",
       "      <td>5646</td>\n",
       "      <td>779</td>\n",
       "      <td>1528</td>\n",
       "      <td>331</td>\n",
       "      <td>...</td>\n",
       "      <td>39</td>\n",
       "      <td>53</td>\n",
       "      <td>25</td>\n",
       "      <td>42</td>\n",
       "      <td>139</td>\n",
       "      <td>59102167</td>\n",
       "      <td>0.270634</td>\n",
       "      <td>0.343849</td>\n",
       "      <td>0.433936</td>\n",
       "      <td>0.777784</td>\n",
       "    </tr>\n",
       "  </tbody>\n",
       "</table>\n",
       "<p>5 rows × 27 columns</p>\n",
       "</div>"
      ],
      "text/plain": [
       "     yearID teamID  weight  height  stint     G    AB    R     H   2B  \\\n",
       "20     2000    OAK    5297    1966     27  1976  4647  793  1249  235   \n",
       "50     2001    OAK    5371    1970     27  1878  4901  769  1309  298   \n",
       "80     2002    OAK    5109    1901     26  1821  4499  618  1174  223   \n",
       "110    2003    OAK    5134    1902     26  1942  5034  712  1279  289   \n",
       "140    2004    OAK    5351    1979     27  2070  5646  779  1528  331   \n",
       "\n",
       "       ...     IBB  HBP  SH  SF  GIDP    salary       AVE       OBP       SLG  \\\n",
       "20     ...      31   48  25  40   124  31971333  0.268776  0.363097  0.461588   \n",
       "50     ...      53   79  23  50   120  33810750  0.267088  0.348596  0.439502   \n",
       "80     ...      34   54   9  25   112  39781167  0.260947  0.340551  0.432985   \n",
       "110    ...      50   51  20  50   104  50260834  0.254072  0.326668  0.414184   \n",
       "140    ...      39   53  25  42   139  59102167  0.270634  0.343849  0.433936   \n",
       "\n",
       "          OPS  \n",
       "20   0.824686  \n",
       "50   0.788098  \n",
       "80   0.773536  \n",
       "110  0.740851  \n",
       "140  0.777784  \n",
       "\n",
       "[5 rows x 27 columns]"
      ]
     },
     "execution_count": 244,
     "metadata": {},
     "output_type": "execute_result"
    }
   ],
   "source": [
    "Oakland=batter[batter[\"teamID\"]==\"OAK\"]\n",
    "Oakland.head()"
   ]
  },
  {
   "cell_type": "code",
   "execution_count": 245,
   "metadata": {
    "collapsed": false
   },
   "outputs": [
    {
     "data": {
      "text/html": [
       "<div>\n",
       "<table border=\"1\" class=\"dataframe\">\n",
       "  <thead>\n",
       "    <tr style=\"text-align: right;\">\n",
       "      <th></th>\n",
       "      <th>yearID</th>\n",
       "      <th>teamID</th>\n",
       "      <th>weight</th>\n",
       "      <th>height</th>\n",
       "      <th>stint</th>\n",
       "      <th>G</th>\n",
       "      <th>AB</th>\n",
       "      <th>R</th>\n",
       "      <th>H</th>\n",
       "      <th>2B</th>\n",
       "      <th>...</th>\n",
       "      <th>IBB</th>\n",
       "      <th>HBP</th>\n",
       "      <th>SH</th>\n",
       "      <th>SF</th>\n",
       "      <th>GIDP</th>\n",
       "      <th>salary</th>\n",
       "      <th>AVE</th>\n",
       "      <th>OBP</th>\n",
       "      <th>SLG</th>\n",
       "      <th>OPS</th>\n",
       "    </tr>\n",
       "  </thead>\n",
       "  <tbody>\n",
       "    <tr>\n",
       "      <th>18</th>\n",
       "      <td>2000</td>\n",
       "      <td>NYA</td>\n",
       "      <td>4994</td>\n",
       "      <td>1918</td>\n",
       "      <td>26</td>\n",
       "      <td>1736</td>\n",
       "      <td>4442</td>\n",
       "      <td>707</td>\n",
       "      <td>1230</td>\n",
       "      <td>241</td>\n",
       "      <td>...</td>\n",
       "      <td>40</td>\n",
       "      <td>53</td>\n",
       "      <td>6</td>\n",
       "      <td>40</td>\n",
       "      <td>112</td>\n",
       "      <td>91938260</td>\n",
       "      <td>0.276902</td>\n",
       "      <td>0.356295</td>\n",
       "      <td>0.444845</td>\n",
       "      <td>0.801139</td>\n",
       "    </tr>\n",
       "    <tr>\n",
       "      <th>48</th>\n",
       "      <td>2001</td>\n",
       "      <td>NYA</td>\n",
       "      <td>5407</td>\n",
       "      <td>2066</td>\n",
       "      <td>28</td>\n",
       "      <td>1854</td>\n",
       "      <td>5185</td>\n",
       "      <td>760</td>\n",
       "      <td>1408</td>\n",
       "      <td>271</td>\n",
       "      <td>...</td>\n",
       "      <td>38</td>\n",
       "      <td>54</td>\n",
       "      <td>23</td>\n",
       "      <td>42</td>\n",
       "      <td>109</td>\n",
       "      <td>110181143</td>\n",
       "      <td>0.271553</td>\n",
       "      <td>0.338358</td>\n",
       "      <td>0.446287</td>\n",
       "      <td>0.784645</td>\n",
       "    </tr>\n",
       "    <tr>\n",
       "      <th>78</th>\n",
       "      <td>2002</td>\n",
       "      <td>NYA</td>\n",
       "      <td>5318</td>\n",
       "      <td>1989</td>\n",
       "      <td>27</td>\n",
       "      <td>1961</td>\n",
       "      <td>5158</td>\n",
       "      <td>841</td>\n",
       "      <td>1430</td>\n",
       "      <td>285</td>\n",
       "      <td>...</td>\n",
       "      <td>46</td>\n",
       "      <td>68</td>\n",
       "      <td>22</td>\n",
       "      <td>38</td>\n",
       "      <td>143</td>\n",
       "      <td>125498583</td>\n",
       "      <td>0.277239</td>\n",
       "      <td>0.358105</td>\n",
       "      <td>0.459287</td>\n",
       "      <td>0.817391</td>\n",
       "    </tr>\n",
       "    <tr>\n",
       "      <th>108</th>\n",
       "      <td>2003</td>\n",
       "      <td>NYA</td>\n",
       "      <td>5247</td>\n",
       "      <td>1920</td>\n",
       "      <td>26</td>\n",
       "      <td>1759</td>\n",
       "      <td>4718</td>\n",
       "      <td>757</td>\n",
       "      <td>1288</td>\n",
       "      <td>257</td>\n",
       "      <td>...</td>\n",
       "      <td>50</td>\n",
       "      <td>75</td>\n",
       "      <td>17</td>\n",
       "      <td>29</td>\n",
       "      <td>122</td>\n",
       "      <td>147199814</td>\n",
       "      <td>0.272997</td>\n",
       "      <td>0.365088</td>\n",
       "      <td>0.461424</td>\n",
       "      <td>0.826512</td>\n",
       "    </tr>\n",
       "    <tr>\n",
       "      <th>138</th>\n",
       "      <td>2004</td>\n",
       "      <td>NYA</td>\n",
       "      <td>5730</td>\n",
       "      <td>2139</td>\n",
       "      <td>29</td>\n",
       "      <td>2081</td>\n",
       "      <td>5328</td>\n",
       "      <td>875</td>\n",
       "      <td>1431</td>\n",
       "      <td>274</td>\n",
       "      <td>...</td>\n",
       "      <td>39</td>\n",
       "      <td>76</td>\n",
       "      <td>37</td>\n",
       "      <td>49</td>\n",
       "      <td>149</td>\n",
       "      <td>184193950</td>\n",
       "      <td>0.268581</td>\n",
       "      <td>0.353327</td>\n",
       "      <td>0.460961</td>\n",
       "      <td>0.814288</td>\n",
       "    </tr>\n",
       "  </tbody>\n",
       "</table>\n",
       "<p>5 rows × 27 columns</p>\n",
       "</div>"
      ],
      "text/plain": [
       "     yearID teamID  weight  height  stint     G    AB    R     H   2B  \\\n",
       "18     2000    NYA    4994    1918     26  1736  4442  707  1230  241   \n",
       "48     2001    NYA    5407    2066     28  1854  5185  760  1408  271   \n",
       "78     2002    NYA    5318    1989     27  1961  5158  841  1430  285   \n",
       "108    2003    NYA    5247    1920     26  1759  4718  757  1288  257   \n",
       "138    2004    NYA    5730    2139     29  2081  5328  875  1431  274   \n",
       "\n",
       "       ...     IBB  HBP  SH  SF  GIDP     salary       AVE       OBP  \\\n",
       "18     ...      40   53   6  40   112   91938260  0.276902  0.356295   \n",
       "48     ...      38   54  23  42   109  110181143  0.271553  0.338358   \n",
       "78     ...      46   68  22  38   143  125498583  0.277239  0.358105   \n",
       "108    ...      50   75  17  29   122  147199814  0.272997  0.365088   \n",
       "138    ...      39   76  37  49   149  184193950  0.268581  0.353327   \n",
       "\n",
       "          SLG       OPS  \n",
       "18   0.444845  0.801139  \n",
       "48   0.446287  0.784645  \n",
       "78   0.459287  0.817391  \n",
       "108  0.461424  0.826512  \n",
       "138  0.460961  0.814288  \n",
       "\n",
       "[5 rows x 27 columns]"
      ]
     },
     "execution_count": 245,
     "metadata": {},
     "output_type": "execute_result"
    }
   ],
   "source": [
    "NewYork=batter[batter[\"teamID\"]==\"NYA\"]\n",
    "NewYork.head()"
   ]
  },
  {
   "cell_type": "code",
   "execution_count": 246,
   "metadata": {
    "collapsed": false
   },
   "outputs": [
    {
     "data": {
      "text/html": [
       "<div>\n",
       "<table border=\"1\" class=\"dataframe\">\n",
       "  <thead>\n",
       "    <tr style=\"text-align: right;\">\n",
       "      <th></th>\n",
       "      <th>yearID</th>\n",
       "      <th>weight</th>\n",
       "      <th>height</th>\n",
       "      <th>stint</th>\n",
       "      <th>G</th>\n",
       "      <th>AB</th>\n",
       "      <th>R</th>\n",
       "      <th>H</th>\n",
       "      <th>2B</th>\n",
       "      <th>3B</th>\n",
       "      <th>...</th>\n",
       "      <th>IBB</th>\n",
       "      <th>HBP</th>\n",
       "      <th>SH</th>\n",
       "      <th>SF</th>\n",
       "      <th>GIDP</th>\n",
       "      <th>salary</th>\n",
       "      <th>AVE</th>\n",
       "      <th>OBP</th>\n",
       "      <th>SLG</th>\n",
       "      <th>OPS</th>\n",
       "    </tr>\n",
       "  </thead>\n",
       "  <tbody>\n",
       "    <tr>\n",
       "      <th>0</th>\n",
       "      <td>2000</td>\n",
       "      <td>5194.7</td>\n",
       "      <td>1960.266667</td>\n",
       "      <td>26.933333</td>\n",
       "      <td>1858.100000</td>\n",
       "      <td>4770.300000</td>\n",
       "      <td>723.633333</td>\n",
       "      <td>1304.866667</td>\n",
       "      <td>259.466667</td>\n",
       "      <td>26.933333</td>\n",
       "      <td>...</td>\n",
       "      <td>36.966667</td>\n",
       "      <td>45.266667</td>\n",
       "      <td>43.966667</td>\n",
       "      <td>44.366667</td>\n",
       "      <td>111.833333</td>\n",
       "      <td>54028503.400000</td>\n",
       "      <td>0.273408</td>\n",
       "      <td>0.348774</td>\n",
       "      <td>0.445434</td>\n",
       "      <td>0.794208</td>\n",
       "    </tr>\n",
       "    <tr>\n",
       "      <th>1</th>\n",
       "      <td>2001</td>\n",
       "      <td>5309.7</td>\n",
       "      <td>1992.933333</td>\n",
       "      <td>27.133333</td>\n",
       "      <td>1880.966667</td>\n",
       "      <td>4861.300000</td>\n",
       "      <td>687.066667</td>\n",
       "      <td>1296.133333</td>\n",
       "      <td>261.700000</td>\n",
       "      <td>26.766667</td>\n",
       "      <td>...</td>\n",
       "      <td>42.900000</td>\n",
       "      <td>56.733333</td>\n",
       "      <td>44.700000</td>\n",
       "      <td>41.766667</td>\n",
       "      <td>106.366667</td>\n",
       "      <td>62018775.766667</td>\n",
       "      <td>0.266450</td>\n",
       "      <td>0.335436</td>\n",
       "      <td>0.432476</td>\n",
       "      <td>0.767912</td>\n",
       "    </tr>\n",
       "    <tr>\n",
       "      <th>2</th>\n",
       "      <td>2002</td>\n",
       "      <td>5283.9</td>\n",
       "      <td>1967.233333</td>\n",
       "      <td>26.800000</td>\n",
       "      <td>1891.133333</td>\n",
       "      <td>4819.333333</td>\n",
       "      <td>656.800000</td>\n",
       "      <td>1267.833333</td>\n",
       "      <td>255.000000</td>\n",
       "      <td>25.833333</td>\n",
       "      <td>...</td>\n",
       "      <td>45.433333</td>\n",
       "      <td>51.966667</td>\n",
       "      <td>45.600000</td>\n",
       "      <td>41.333333</td>\n",
       "      <td>113.633333</td>\n",
       "      <td>65683157.733333</td>\n",
       "      <td>0.262728</td>\n",
       "      <td>0.333662</td>\n",
       "      <td>0.419421</td>\n",
       "      <td>0.753083</td>\n",
       "    </tr>\n",
       "    <tr>\n",
       "      <th>3</th>\n",
       "      <td>2003</td>\n",
       "      <td>5310.7</td>\n",
       "      <td>1958.600000</td>\n",
       "      <td>26.733333</td>\n",
       "      <td>1880.233333</td>\n",
       "      <td>4781.166667</td>\n",
       "      <td>664.100000</td>\n",
       "      <td>1272.033333</td>\n",
       "      <td>257.900000</td>\n",
       "      <td>26.466667</td>\n",
       "      <td>...</td>\n",
       "      <td>41.000000</td>\n",
       "      <td>53.366667</td>\n",
       "      <td>43.833333</td>\n",
       "      <td>39.000000</td>\n",
       "      <td>112.400000</td>\n",
       "      <td>68647015.366667</td>\n",
       "      <td>0.265187</td>\n",
       "      <td>0.334617</td>\n",
       "      <td>0.425427</td>\n",
       "      <td>0.760044</td>\n",
       "    </tr>\n",
       "    <tr>\n",
       "      <th>4</th>\n",
       "      <td>2004</td>\n",
       "      <td>5355.5</td>\n",
       "      <td>1958.666667</td>\n",
       "      <td>26.666667</td>\n",
       "      <td>1878.133333</td>\n",
       "      <td>4832.033333</td>\n",
       "      <td>684.066667</td>\n",
       "      <td>1300.366667</td>\n",
       "      <td>260.300000</td>\n",
       "      <td>25.633333</td>\n",
       "      <td>...</td>\n",
       "      <td>42.000000</td>\n",
       "      <td>53.233333</td>\n",
       "      <td>48.133333</td>\n",
       "      <td>40.300000</td>\n",
       "      <td>111.133333</td>\n",
       "      <td>66399964.733333</td>\n",
       "      <td>0.268678</td>\n",
       "      <td>0.338057</td>\n",
       "      <td>0.432900</td>\n",
       "      <td>0.770957</td>\n",
       "    </tr>\n",
       "  </tbody>\n",
       "</table>\n",
       "<p>5 rows × 26 columns</p>\n",
       "</div>"
      ],
      "text/plain": [
       "   yearID  weight       height      stint            G           AB  \\\n",
       "0    2000  5194.7  1960.266667  26.933333  1858.100000  4770.300000   \n",
       "1    2001  5309.7  1992.933333  27.133333  1880.966667  4861.300000   \n",
       "2    2002  5283.9  1967.233333  26.800000  1891.133333  4819.333333   \n",
       "3    2003  5310.7  1958.600000  26.733333  1880.233333  4781.166667   \n",
       "4    2004  5355.5  1958.666667  26.666667  1878.133333  4832.033333   \n",
       "\n",
       "            R            H          2B         3B    ...           IBB  \\\n",
       "0  723.633333  1304.866667  259.466667  26.933333    ...     36.966667   \n",
       "1  687.066667  1296.133333  261.700000  26.766667    ...     42.900000   \n",
       "2  656.800000  1267.833333  255.000000  25.833333    ...     45.433333   \n",
       "3  664.100000  1272.033333  257.900000  26.466667    ...     41.000000   \n",
       "4  684.066667  1300.366667  260.300000  25.633333    ...     42.000000   \n",
       "\n",
       "         HBP         SH         SF        GIDP           salary       AVE  \\\n",
       "0  45.266667  43.966667  44.366667  111.833333  54028503.400000  0.273408   \n",
       "1  56.733333  44.700000  41.766667  106.366667  62018775.766667  0.266450   \n",
       "2  51.966667  45.600000  41.333333  113.633333  65683157.733333  0.262728   \n",
       "3  53.366667  43.833333  39.000000  112.400000  68647015.366667  0.265187   \n",
       "4  53.233333  48.133333  40.300000  111.133333  66399964.733333  0.268678   \n",
       "\n",
       "        OBP       SLG       OPS  \n",
       "0  0.348774  0.445434  0.794208  \n",
       "1  0.335436  0.432476  0.767912  \n",
       "2  0.333662  0.419421  0.753083  \n",
       "3  0.334617  0.425427  0.760044  \n",
       "4  0.338057  0.432900  0.770957  \n",
       "\n",
       "[5 rows x 26 columns]"
      ]
     },
     "execution_count": 246,
     "metadata": {},
     "output_type": "execute_result"
    }
   ],
   "source": [
    "batter_year=batter.groupby(\"yearID\",as_index=False).mean()\n",
    "batter_year.head()"
   ]
  },
  {
   "cell_type": "code",
   "execution_count": 247,
   "metadata": {
    "collapsed": false
   },
   "outputs": [
    {
     "data": {
      "text/plain": [
       "<matplotlib.text.Text at 0x11f1eaed0>"
      ]
     },
     "execution_count": 247,
     "metadata": {},
     "output_type": "execute_result"
    },
    {
     "data": {
      "image/png": "[encoded data removed]",
      "text/plain": [
       "<matplotlib.figure.Figure at 0x11e47c510>"
      ]
     },
     "metadata": {},
     "output_type": "display_data"
    }
   ],
   "source": [
    "plt.plot(Oakland[\"yearID\"],Oakland[\"salary\"])\n",
    "plt.plot(NewYork[\"yearID\"],NewYork[\"salary\"],color=\"r\")\n",
    "plt.plot(batter_year[\"yearID\"],batter_year[\"salary\"],color=\"g\")\n",
    "plt.legend([\"Oakland\",\"NewYork\",\"Average\"])\n",
    "plt.xlabel(\"Year\")\n",
    "plt.ylabel(\"Salary\")"
   ]
  },
  {
   "cell_type": "markdown",
   "metadata": {},
   "source": [
    "As you can see the average salary of OAK is lower than average of all and far fewer tha that of NYA.(1/4~1/2)"
   ]
  },
  {
   "cell_type": "code",
   "execution_count": 248,
   "metadata": {
    "collapsed": false
   },
   "outputs": [
    {
     "data": {
      "text/plain": [
       "<matplotlib.text.Text at 0x120106610>"
      ]
     },
     "execution_count": 248,
     "metadata": {},
     "output_type": "execute_result"
    },
    {
     "data": {
      "image/png": "[encoded data removed]",
      "text/plain": [
       "<matplotlib.figure.Figure at 0x11fdee890>"
      ]
     },
     "metadata": {},
     "output_type": "display_data"
    }
   ],
   "source": [
    "plt.plot(Oakland[\"yearID\"],Oakland[\"AVE\"])\n",
    "plt.plot(NewYork[\"yearID\"],NewYork[\"AVE\"],color=\"r\")\n",
    "plt.plot(batter_year[\"yearID\"],batter_year[\"AVE\"],color=\"g\")\n",
    "plt.legend([\"Oakland\",\"NewYork\",\"Average\"])\n",
    "plt.xlabel(\"Year\")\n",
    "plt.ylabel(\"Average\")\n"
   ]
  },
  {
   "cell_type": "markdown",
   "metadata": {},
   "source": [
    "Interestingly, the batting average of OAK is basically lower than the batting average of all teams,except year of 2000(Rank1),2004(Rank2),2010(Rank2) and 2013(Rank1). On the other hand NYA has high batting average.\n",
    "Judging from this,high batting average seems to be important but is not necessary for good rank."
   ]
  },
  {
   "cell_type": "code",
   "execution_count": 249,
   "metadata": {
    "collapsed": false
   },
   "outputs": [
    {
     "data": {
      "text/plain": [
       "<matplotlib.text.Text at 0x1209a8550>"
      ]
     },
     "execution_count": 249,
     "metadata": {},
     "output_type": "execute_result"
    },
    {
     "data": {
      "image/png": "[encoded data removed]",
      "text/plain": [
       "<matplotlib.figure.Figure at 0x121134890>"
      ]
     },
     "metadata": {},
     "output_type": "display_data"
    }
   ],
   "source": [
    "plt.plot(Oakland[\"yearID\"],Oakland[\"OBP\"])\n",
    "plt.plot(NewYork[\"yearID\"],NewYork[\"OBP\"],color=\"r\")\n",
    "plt.plot(batter_year[\"yearID\"],batter_year[\"OBP\"],color=\"g\")\n",
    "plt.legend([\"Oakland\",\"NewYork\",\"Average\"])\n",
    "plt.xlabel(\"Year\")\n",
    "plt.ylabel(\"OBS\")\n"
   ]
  },
  {
   "cell_type": "code",
   "execution_count": 250,
   "metadata": {
    "collapsed": false
   },
   "outputs": [
    {
     "data": {
      "text/plain": [
       "<matplotlib.text.Text at 0x1107b1790>"
      ]
     },
     "execution_count": 250,
     "metadata": {},
     "output_type": "execute_result"
    },
    {
     "data": {
      "image/png": "[encoded data removed]",
      "text/plain": [
       "<matplotlib.figure.Figure at 0x10fc484d0>"
      ]
     },
     "metadata": {},
     "output_type": "display_data"
    }
   ],
   "source": [
    "plt.plot(Oakland[\"yearID\"],Oakland[\"OPS\"])\n",
    "plt.plot(NewYork[\"yearID\"],NewYork[\"OPS\"],color=\"r\")\n",
    "plt.plot(batter_year[\"yearID\"],batter_year[\"OPS\"],color=\"g\")\n",
    "plt.legend([\"Oakland\",\"NewYork\",\"Average\"])\n",
    "plt.xlabel(\"Year\")\n",
    "plt.ylabel(\"OPS\")"
   ]
  },
  {
   "cell_type": "markdown",
   "metadata": {},
   "source": [
    "NYA has high numbers in terms of OBP and OPS. OAK has good numbers in 2000,2001,2013 and 2014 which are higher than NYA. From 2007 to 2011(Oak was not so good), OAK has much fewer numbers in OPS than that of average of all teams."
   ]
  },
  {
   "cell_type": "code",
   "execution_count": 251,
   "metadata": {
    "collapsed": false
   },
   "outputs": [
    {
     "data": {
      "text/plain": [
       "<matplotlib.text.Text at 0x11e44c1d0>"
      ]
     },
     "execution_count": 251,
     "metadata": {},
     "output_type": "execute_result"
    },
    {
     "data": {
      "image/png": "[encoded data removed]",
      "text/plain": [
       "<matplotlib.figure.Figure at 0x11f01c2d0>"
      ]
     },
     "metadata": {},
     "output_type": "display_data"
    }
   ],
   "source": [
    "plt.plot(Oakland[\"yearID\"],Oakland[\"HR\"])\n",
    "plt.plot(NewYork[\"yearID\"],NewYork[\"HR\"],color=\"r\")\n",
    "plt.plot(batter_year[\"yearID\"],batter_year[\"HR\"],color=\"g\")\n",
    "plt.legend([\"Oakland\",\"NewYork\",\"Average\"])\n",
    "plt.xlabel(\"Year\")\n",
    "plt.ylabel(\"HomeRuns\")"
   ]
  },
  {
   "cell_type": "markdown",
   "metadata": {},
   "source": [
    "NYA has many homeruns except 2013 and 2014.\n",
    "OAK is also higher numbers than the average except form 2007 to 2012."
   ]
  },
  {
   "cell_type": "code",
   "execution_count": 252,
   "metadata": {
    "collapsed": false
   },
   "outputs": [
    {
     "data": {
      "text/plain": [
       "<matplotlib.text.Text at 0x1209e8290>"
      ]
     },
     "execution_count": 252,
     "metadata": {},
     "output_type": "execute_result"
    },
    {
     "data": {
      "image/png": "[encoded data removed]",
      "text/plain": [
       "<matplotlib.figure.Figure at 0x122532850>"
      ]
     },
     "metadata": {},
     "output_type": "display_data"
    }
   ],
   "source": [
    "plt.plot(Oakland[\"yearID\"],Oakland[\"BB\"])\n",
    "plt.plot(NewYork[\"yearID\"],NewYork[\"BB\"],color=\"r\")\n",
    "plt.plot(batter_year[\"yearID\"],batter_year[\"BB\"],color=\"g\")\n",
    "plt.legend([\"Oakland\",\"NewYork\",\"Average\"])\n",
    "plt.xlabel(\"Year\")\n",
    "plt.ylabel(\"Base on Balls\")\n",
    "\n"
   ]
  },
  {
   "cell_type": "markdown",
   "metadata": {},
   "source": [
    "The number of base on balls in OAK and NYA is higher than the average in most years."
   ]
  },
  {
   "cell_type": "markdown",
   "metadata": {},
   "source": [
    "OAK and NYA belong to American League which adopts DH and the Average in above graphs includes National League which doesn't include DH.\n",
    "Pitchers aren't good batters compared with others. Therefore, if I exclude pitchers from batting performance, the result will be slightly higer.(But the result may be limited since there are 8 batters other than a picher in a game and the batting order of pitches will be 9 which is the smallest chances of batting.)"
   ]
  },
  {
   "cell_type": "markdown",
   "metadata": {},
   "source": [
    "# Conclusion\n",
    "Since NYA pays much higher than OAK,it is understandable that the performance of players are good in many factors(showed above). OAK pays much less than NYA and even less than the average of all teams,but OAK shows good performance in rank. It is often said that strong team has high batting average but OAK is lower than the average in terms of batting average.However, OAK has good numbers in OBP,OPS,HR and especially BB when OAK is good rank. From these facts, I suppose that high average is certainly important but not necessary.From the fact that OAK has large number of BBs, I guess opponent team has to pitch more toward OAK.The more pitchers pitch,the more stamina they use up. Therefore, they might miss-pitch toward OAK's batter. That may lead to high number of HRs.If there were data about the number of pitches which opponents pitch, I could see the relationship between the number of pitches and the number of HRs."
   ]
  },
  {
   "cell_type": "code",
   "execution_count": null,
   "metadata": {
    "collapsed": true
   },
   "outputs": [],
   "source": []
  }
 ],
 "metadata": {
  "kernelspec": {
   "display_name": "Python 2",
   "language": "python",
   "name": "python2"
  },
  "language_info": {
   "codemirror_mode": {
    "name": "ipython",
    "version": 2
   },
   "file_extension": ".py",
   "mimetype": "text/x-python",
   "name": "python",
   "nbconvert_exporter": "python",
   "pygments_lexer": "ipython2",
   "version": "2.7.11"
  }
 },
 "nbformat": 4,
 "nbformat_minor": 0
}
